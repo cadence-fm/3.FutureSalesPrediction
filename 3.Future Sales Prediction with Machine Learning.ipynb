{
 "cells": [
  {
   "cell_type": "code",
   "execution_count": 1,
   "id": "647c0cf5",
   "metadata": {},
   "outputs": [
    {
     "name": "stdout",
     "output_type": "stream",
     "text": [
      "      TV  Radio  Newspaper  Sales\n",
      "0  230.1   37.8       69.2   22.1\n",
      "1   44.5   39.3       45.1   10.4\n",
      "2   17.2   45.9       69.3   12.0\n",
      "3  151.5   41.3       58.5   16.5\n",
      "4  180.8   10.8       58.4   17.9\n"
     ]
    }
   ],
   "source": [
    "#Import library\n",
    "import pandas as pd\n",
    "import numpy as np\n",
    "from sklearn.model_selection import train_test_split\n",
    "from sklearn.linear_model import LinearRegression\n",
    "\n",
    "data = pd.read_csv(\"https://raw.githubusercontent.com/amankharwal/Website-data/master/advertising.csv\")\n",
    "print(data.head())\n",
    "                   "
   ]
  },
  {
   "cell_type": "code",
   "execution_count": 2,
   "id": "598f902b",
   "metadata": {},
   "outputs": [
    {
     "name": "stdout",
     "output_type": "stream",
     "text": [
      "<class 'pandas.core.frame.DataFrame'>\n",
      "RangeIndex: 200 entries, 0 to 199\n",
      "Data columns (total 4 columns):\n",
      " #   Column     Non-Null Count  Dtype  \n",
      "---  ------     --------------  -----  \n",
      " 0   TV         200 non-null    float64\n",
      " 1   Radio      200 non-null    float64\n",
      " 2   Newspaper  200 non-null    float64\n",
      " 3   Sales      200 non-null    float64\n",
      "dtypes: float64(4)\n",
      "memory usage: 6.4 KB\n"
     ]
    }
   ],
   "source": [
    "data.info()"
   ]
  },
  {
   "cell_type": "code",
   "execution_count": 4,
   "id": "076e1bf7",
   "metadata": {},
   "outputs": [
    {
     "data": {
      "text/plain": [
       "TV           0\n",
       "Radio        0\n",
       "Newspaper    0\n",
       "Sales        0\n",
       "dtype: int64"
      ]
     },
     "execution_count": 4,
     "metadata": {},
     "output_type": "execute_result"
    }
   ],
   "source": [
    "#Check missing value\n",
    "data.isna().sum()"
   ]
  },
  {
   "cell_type": "code",
   "execution_count": 14,
   "id": "7640a6ab",
   "metadata": {},
   "outputs": [
    {
     "data": {
      "image/png": "[encoded data removed]",
      "text/plain": [
       "<Figure size 432x288 with 1 Axes>"
      ]
     },
     "metadata": {
      "needs_background": "light"
     },
     "output_type": "display_data"
    }
   ],
   "source": [
    "#Visualization\n",
    "import matplotlib.pyplot as plt\n",
    "import numpy as np\n",
    "\n",
    "#Scatter plot of Sales and TV\n",
    "plt.scatter(data[\"TV\"], data[\"Sales\"])\n",
    "\n",
    "#Fit a linear regression line\n",
    "slope, intercept = np.polyfit(data[\"TV\"], data[\"Sales\"], 1)\n",
    "plt.plot(data[\"TV\"], slope * data[\"TV\"] + intercept, color='red', label='Trendline')\n",
    "plt.title(\"Sales with TV advertisement\")\n",
    "plt.xlabel(\"TV\")\n",
    "plt.ylabel(\"Sales\")\n",
    "plt.show()"
   ]
  },
  {
   "cell_type": "code",
   "execution_count": 27,
   "id": "1613e579",
   "metadata": {},
   "outputs": [
    {
     "data": {
      "application/vnd.plotly.v1+json": {
       "config": {
        "plotlyServerURL": "https://plot.ly"
       },
       "data": [
        {
         "hovertemplate": "TV=%{marker.size}<br>Sales=%{y}<extra></extra>",
         "legendgroup": "",
         "marker": {
          "color": "#636efa",
          "size": [
           230.1,
           44.5,
           17.2,
           151.5,
           180.8,
           8.7,
           57.5,
           120.2,
           8.6,
           199.8,
           66.1,
           214.7,
           23.8,
           97.5,
           204.1,
           195.4,
           67.8,
           281.4,
           69.2,
           147.3,
           218.4,
           237.4,
           13.2,
           228.3,
           62.3,
           262.9,
           142.9,
           240.1,
           248.8,
           70.6,
           292.9,
           112.9,
           97.2,
           265.6,
           95.7,
           290.7,
           266.9,
           74.7,
           43.1,
           228,
           202.5,
           177,
           293.6,
           206.9,
           25.1,
           175.1,
           89.7,
           239.9,
           227.2,
           66.9,
           199.8,
           100.4,
           216.4,
           182.6,
           262.7,
           198.9,
           7.3,
           136.2,
           210.8,
           210.7,
           53.5,
           261.3,
           239.3,
           102.7,
           131.1,
           69,
           31.5,
           139.3,
           237.4,
           216.8,
           199.1,
           109.8,
           26.8,
           129.4,
           213.4,
           16.9,
           27.5,
           120.5,
           5.4,
           116,
           76.4,
           239.8,
           75.3,
           68.4,
           213.5,
           193.2,
           76.3,
           110.7,
           88.3,
           109.8,
           134.3,
           28.6,
           217.7,
           250.9,
           107.4,
           163.3,
           197.6,
           184.9,
           289.7,
           135.2,
           222.4,
           296.4,
           280.2,
           187.9,
           238.2,
           137.9,
           25,
           90.4,
           13.1,
           255.4,
           225.8,
           241.7,
           175.7,
           209.6,
           78.2,
           75.1,
           139.2,
           76.4,
           125.7,
           19.4,
           141.3,
           18.8,
           224,
           123.1,
           229.5,
           87.2,
           7.8,
           80.2,
           220.3,
           59.6,
           0.7,
           265.2,
           8.4,
           219.8,
           36.9,
           48.3,
           25.6,
           273.7,
           43,
           184.9,
           73.4,
           193.7,
           220.5,
           104.6,
           96.2,
           140.3,
           240.1,
           243.2,
           38,
           44.7,
           280.7,
           121,
           197.6,
           171.3,
           187.8,
           4.1,
           93.9,
           149.8,
           11.7,
           131.7,
           172.5,
           85.7,
           188.4,
           163.5,
           117.2,
           234.5,
           17.9,
           206.8,
           215.4,
           284.3,
           50,
           164.5,
           19.6,
           168.4,
           222.4,
           276.9,
           248.4,
           170.2,
           276.7,
           165.6,
           156.6,
           218.5,
           56.2,
           287.6,
           253.8,
           205,
           139.5,
           191.1,
           286,
           18.7,
           39.5,
           75.5,
           17.2,
           166.8,
           149.7,
           38.2,
           94.2,
           177,
           283.6,
           232.1
          ],
          "sizemode": "area",
          "sizeref": 0.741,
          "symbol": "circle"
         },
         "mode": "markers",
         "name": "",
         "orientation": "v",
         "showlegend": false,
         "type": "scatter",
         "x": [
          230.1,
          44.5,
          17.2,
          151.5,
          180.8,
          8.7,
          57.5,
          120.2,
          8.6,
          199.8,
          66.1,
          214.7,
          23.8,
          97.5,
          204.1,
          195.4,
          67.8,
          281.4,
          69.2,
          147.3,
          218.4,
          237.4,
          13.2,
          228.3,
          62.3,
          262.9,
          142.9,
          240.1,
          248.8,
          70.6,
          292.9,
          112.9,
          97.2,
          265.6,
          95.7,
          290.7,
          266.9,
          74.7,
          43.1,
          228,
          202.5,
          177,
          293.6,
          206.9,
          25.1,
          175.1,
          89.7,
          239.9,
          227.2,
          66.9,
          199.8,
          100.4,
          216.4,
          182.6,
          262.7,
          198.9,
          7.3,
          136.2,
          210.8,
          210.7,
          53.5,
          261.3,
          239.3,
          102.7,
          131.1,
          69,
          31.5,
          139.3,
          237.4,
          216.8,
          199.1,
          109.8,
          26.8,
          129.4,
          213.4,
          16.9,
          27.5,
          120.5,
          5.4,
          116,
          76.4,
          239.8,
          75.3,
          68.4,
          213.5,
          193.2,
          76.3,
          110.7,
          88.3,
          109.8,
          134.3,
          28.6,
          217.7,
          250.9,
          107.4,
          163.3,
          197.6,
          184.9,
          289.7,
          135.2,
          222.4,
          296.4,
          280.2,
          187.9,
          238.2,
          137.9,
          25,
          90.4,
          13.1,
          255.4,
          225.8,
          241.7,
          175.7,
          209.6,
          78.2,
          75.1,
          139.2,
          76.4,
          125.7,
          19.4,
          141.3,
          18.8,
          224,
          123.1,
          229.5,
          87.2,
          7.8,
          80.2,
          220.3,
          59.6,
          0.7,
          265.2,
          8.4,
          219.8,
          36.9,
          48.3,
          25.6,
          273.7,
          43,
          184.9,
          73.4,
          193.7,
          220.5,
          104.6,
          96.2,
          140.3,
          240.1,
          243.2,
          38,
          44.7,
          280.7,
          121,
          197.6,
          171.3,
          187.8,
          4.1,
          93.9,
          149.8,
          11.7,
          131.7,
          172.5,
          85.7,
          188.4,
          163.5,
          117.2,
          234.5,
          17.9,
          206.8,
          215.4,
          284.3,
          50,
          164.5,
          19.6,
          168.4,
          222.4,
          276.9,
          248.4,
          170.2,
          276.7,
          165.6,
          156.6,
          218.5,
          56.2,
          287.6,
          253.8,
          205,
          139.5,
          191.1,
          286,
          18.7,
          39.5,
          75.5,
          17.2,
          166.8,
          149.7,
          38.2,
          94.2,
          177,
          283.6,
          232.1
         ],
         "xaxis": "x",
         "y": [
          22.1,
          10.4,
          12,
          16.5,
          17.9,
          7.2,
          11.8,
          13.2,
          4.8,
          15.6,
          12.6,
          17.4,
          9.2,
          13.7,
          19,
          22.4,
          12.5,
          24.4,
          11.3,
          14.6,
          18,
          17.5,
          5.6,
          20.5,
          9.7,
          17,
          15,
          20.9,
          18.9,
          10.5,
          21.4,
          11.9,
          13.2,
          17.4,
          11.9,
          17.8,
          25.4,
          14.7,
          10.1,
          21.5,
          16.6,
          17.1,
          20.7,
          17.9,
          8.5,
          16.1,
          10.6,
          23.2,
          19.8,
          9.7,
          16.4,
          10.7,
          22.6,
          21.2,
          20.2,
          23.7,
          5.5,
          13.2,
          23.8,
          18.4,
          8.1,
          24.2,
          20.7,
          14,
          16,
          11.3,
          11,
          13.4,
          18.9,
          22.3,
          18.3,
          12.4,
          8.8,
          11,
          17,
          8.7,
          6.9,
          14.2,
          5.3,
          11,
          11.8,
          17.3,
          11.3,
          13.6,
          21.7,
          20.2,
          12,
          16,
          12.9,
          16.7,
          14,
          7.3,
          19.4,
          22.2,
          11.5,
          16.9,
          16.7,
          20.5,
          25.4,
          17.2,
          16.7,
          23.8,
          19.8,
          19.7,
          20.7,
          15,
          7.2,
          12,
          5.3,
          19.8,
          18.4,
          21.8,
          17.1,
          20.9,
          14.6,
          12.6,
          12.2,
          9.4,
          15.9,
          6.6,
          15.5,
          7,
          16.6,
          15.2,
          19.7,
          10.6,
          6.6,
          11.9,
          24.7,
          9.7,
          1.6,
          17.7,
          5.7,
          19.6,
          10.8,
          11.6,
          9.5,
          20.8,
          9.6,
          20.7,
          10.9,
          19.2,
          20.1,
          10.4,
          12.3,
          10.3,
          18.2,
          25.4,
          10.9,
          10.1,
          16.1,
          11.6,
          16.6,
          16,
          20.6,
          3.2,
          15.3,
          10.1,
          7.3,
          12.9,
          16.4,
          13.3,
          19.9,
          18,
          11.9,
          16.9,
          8,
          17.2,
          17.1,
          20,
          8.4,
          17.5,
          7.6,
          16.7,
          16.5,
          27,
          20.2,
          16.7,
          16.8,
          17.6,
          15.5,
          17.2,
          8.7,
          26.2,
          17.6,
          22.6,
          10.3,
          17.3,
          20.9,
          6.7,
          10.8,
          11.9,
          5.9,
          19.6,
          17.3,
          7.6,
          14,
          14.8,
          25.5,
          18.4
         ],
         "yaxis": "y"
        },
        {
         "hovertemplate": "<b>OLS trendline</b><br>Sales = 0.0554648 * TV + 6.97482<br>R<sup>2</sup>=0.812176<br><br>TV=%{x}<br>Sales=%{y} <b>(trend)</b><extra></extra>",
         "legendgroup": "",
         "marker": {
          "color": "#636efa",
          "symbol": "circle"
         },
         "mode": "lines",
         "name": "",
         "showlegend": false,
         "type": "scatter",
         "x": [
          0.7,
          4.1,
          5.4,
          7.3,
          7.8,
          8.4,
          8.6,
          8.7,
          11.7,
          13.1,
          13.2,
          16.9,
          17.2,
          17.2,
          17.9,
          18.7,
          18.8,
          19.4,
          19.6,
          23.8,
          25,
          25.1,
          25.6,
          26.8,
          27.5,
          28.6,
          31.5,
          36.9,
          38,
          38.2,
          39.5,
          43,
          43.1,
          44.5,
          44.7,
          48.3,
          50,
          53.5,
          56.2,
          57.5,
          59.6,
          62.3,
          66.1,
          66.9,
          67.8,
          68.4,
          69,
          69.2,
          70.6,
          73.4,
          74.7,
          75.1,
          75.3,
          75.5,
          76.3,
          76.4,
          76.4,
          78.2,
          80.2,
          85.7,
          87.2,
          88.3,
          89.7,
          90.4,
          93.9,
          94.2,
          95.7,
          96.2,
          97.2,
          97.5,
          100.4,
          102.7,
          104.6,
          107.4,
          109.8,
          109.8,
          110.7,
          112.9,
          116,
          117.2,
          120.2,
          120.5,
          121,
          123.1,
          125.7,
          129.4,
          131.1,
          131.7,
          134.3,
          135.2,
          136.2,
          137.9,
          139.2,
          139.3,
          139.5,
          140.3,
          141.3,
          142.9,
          147.3,
          149.7,
          149.8,
          151.5,
          156.6,
          163.3,
          163.5,
          164.5,
          165.6,
          166.8,
          168.4,
          170.2,
          171.3,
          172.5,
          175.1,
          175.7,
          177,
          177,
          180.8,
          182.6,
          184.9,
          184.9,
          187.8,
          187.9,
          188.4,
          191.1,
          193.2,
          193.7,
          195.4,
          197.6,
          197.6,
          198.9,
          199.1,
          199.8,
          199.8,
          202.5,
          204.1,
          205,
          206.8,
          206.9,
          209.6,
          210.7,
          210.8,
          213.4,
          213.5,
          214.7,
          215.4,
          216.4,
          216.8,
          217.7,
          218.4,
          218.5,
          219.8,
          220.3,
          220.5,
          222.4,
          222.4,
          224,
          225.8,
          227.2,
          228,
          228.3,
          229.5,
          230.1,
          232.1,
          234.5,
          237.4,
          237.4,
          238.2,
          239.3,
          239.8,
          239.9,
          240.1,
          240.1,
          241.7,
          243.2,
          248.4,
          248.8,
          250.9,
          253.8,
          255.4,
          261.3,
          262.7,
          262.9,
          265.2,
          265.6,
          266.9,
          273.7,
          276.7,
          276.9,
          280.2,
          280.7,
          281.4,
          283.6,
          284.3,
          286,
          287.6,
          289.7,
          290.7,
          292.9,
          293.6,
          296.4
         ],
         "xaxis": "x",
         "y": [
          7.013646827558583,
          7.202227047155083,
          7.27433124876551,
          7.379714312657671,
          7.407446697892451,
          7.440725560174186,
          7.451818514268098,
          7.457364991315053,
          7.623759302723729,
          7.701409981381112,
          7.706956458428068,
          7.9121761091654355,
          7.928815540306303,
          7.928815540306303,
          7.9676408796349945,
          8.012012696010641,
          8.017559173057597,
          8.050838035339332,
          8.061930989433245,
          8.294883025405392,
          8.361440749968862,
          8.366987227015818,
          8.394719612250597,
          8.461277336814067,
          8.50010267614276,
          8.561113923659274,
          8.721961758020994,
          9.021471518556613,
          9.082482766073127,
          9.093575720167038,
          9.165679921777464,
          9.35980661842092,
          9.365353095467876,
          9.443003774125259,
          9.45409672821917,
          9.653769901909582,
          9.748060011707832,
          9.942186708351288,
          10.091941588619097,
          10.164045790229524,
          10.280521808215598,
          10.430276688483406,
          10.64104281626773,
          10.685414632643377,
          10.735332926065979,
          10.768611788347716,
          10.80189065062945,
          10.812983604723362,
          10.890634283380743,
          11.04593564069551,
          11.118039842305937,
          11.140225750493759,
          11.15131870458767,
          11.162411658681583,
          11.206783475057229,
          11.212329952104184,
          11.212329952104184,
          11.312166538949391,
          11.42309607988851,
          11.728152317471082,
          11.81134947317542,
          11.872360720691935,
          11.950011399349318,
          11.98883673867801,
          12.182963435321465,
          12.199602866462332,
          12.282800022166672,
          12.31053240740145,
          12.365997177871009,
          12.382636609011875,
          12.543484443373597,
          12.671053415453581,
          12.776436479345744,
          12.93173783666051,
          13.06485328578745,
          13.06485328578745,
          13.114771579210053,
          13.236794074243083,
          13.408734862698715,
          13.475292587262185,
          13.641686898670862,
          13.658326329811729,
          13.686058715046508,
          13.802534733032582,
          13.946743136253435,
          14.151962786990804,
          14.246252896789052,
          14.279531759070787,
          14.423740162291642,
          14.473658455714244,
          14.529123226183803,
          14.623413335982054,
          14.69551753759248,
          14.701064014639435,
          14.712156968733346,
          14.756528785108994,
          14.811993555578553,
          14.900737188329847,
          15.144782178395907,
          15.277897627522847,
          15.283444104569803,
          15.377734214368054,
          15.660604543762801,
          16.032218505908848,
          16.04331146000276,
          16.098776230472318,
          16.159787477988832,
          16.226345202552302,
          16.315088835303598,
          16.4149254221488,
          16.47593666966532,
          16.542494394228786,
          16.68670279744964,
          16.719981659731374,
          16.792085861341803,
          16.792085861341803,
          17.00285198912613,
          17.10268857597133,
          17.230257548051316,
          17.230257548051316,
          17.391105382413038,
          17.396651859459993,
          17.424384244694775,
          17.57413912496258,
          17.690615142948655,
          17.718347528183433,
          17.812637637981684,
          17.934660133014713,
          17.934660133014713,
          18.006764334625142,
          18.017857288719053,
          18.056682628047746,
          18.056682628047746,
          18.206437508315553,
          18.295181141066845,
          18.34509943448945,
          18.444936021334655,
          18.45048249838161,
          18.60023737864942,
          18.661248626165936,
          18.66679510321289,
          18.811003506433742,
          18.816549983480698,
          18.883107708044168,
          18.92193304737286,
          18.97739781784242,
          18.999583726030245,
          19.049502019452845,
          19.088327358781537,
          19.093873835828493,
          19.165978037438922,
          19.1937104226737,
          19.20480337676761,
          19.310186440659773,
          19.310186440659773,
          19.398930073411066,
          19.498766660256273,
          19.576417338913654,
          19.6207891552893,
          19.637428586430172,
          19.703986310993642,
          19.737265173275375,
          19.848194714214493,
          19.981310163341433,
          20.142157997703155,
          20.142157997703155,
          20.186529814078803,
          20.247541061595317,
          20.2752734468301,
          20.280819923877054,
          20.291912877970965,
          20.291912877970965,
          20.380656510722257,
          20.463853666426594,
          20.752270472868304,
          20.774456381056126,
          20.8909323990422,
          21.05178023340392,
          21.140523866155213,
          21.46776601192561,
          21.545416690582993,
          21.556509644676904,
          21.68407861675689,
          21.706264524944714,
          21.77836872655514,
          22.15552916574814,
          22.321923477156815,
          22.333016431250726,
          22.516050173800274,
          22.54378255903505,
          22.582607898363744,
          22.704630393396773,
          22.743455732725465,
          22.837745842523713,
          22.92648947527501,
          23.042965493261082,
          23.09843026373064,
          23.22045275876367,
          23.259278098092363,
          23.414579455407125
         ],
         "yaxis": "y"
        }
       ],
       "layout": {
        "legend": {
         "itemsizing": "constant",
         "tracegroupgap": 0
        },
        "template": {
         "data": {
          "bar": [
           {
            "error_x": {
             "color": "#2a3f5f"
            },
            "error_y": {
             "color": "#2a3f5f"
            },
            "marker": {
             "line": {
              "color": "#E5ECF6",
              "width": 0.5
             },
             "pattern": {
              "fillmode": "overlay",
              "size": 10,
              "solidity": 0.2
             }
            },
            "type": "bar"
           }
          ],
          "barpolar": [
           {
            "marker": {
             "line": {
              "color": "#E5ECF6",
              "width": 0.5
             },
             "pattern": {
              "fillmode": "overlay",
              "size": 10,
              "solidity": 0.2
             }
            },
            "type": "barpolar"
           }
          ],
          "carpet": [
           {
            "aaxis": {
             "endlinecolor": "#2a3f5f",
             "gridcolor": "white",
             "linecolor": "white",
             "minorgridcolor": "white",
             "startlinecolor": "#2a3f5f"
            },
            "baxis": {
             "endlinecolor": "#2a3f5f",
             "gridcolor": "white",
             "linecolor": "white",
             "minorgridcolor": "white",
             "startlinecolor": "#2a3f5f"
            },
            "type": "carpet"
           }
          ],
          "choropleth": [
           {
            "colorbar": {
             "outlinewidth": 0,
             "ticks": ""
            },
            "type": "choropleth"
           }
          ],
          "contour": [
           {
            "colorbar": {
             "outlinewidth": 0,
             "ticks": ""
            },
            "colorscale": [
             [
              0,
              "#0d0887"
             ],
             [
              0.1111111111111111,
              "#46039f"
             ],
             [
              0.2222222222222222,
              "#7201a8"
             ],
             [
              0.3333333333333333,
              "#9c179e"
             ],
             [
              0.4444444444444444,
              "#bd3786"
             ],
             [
              0.5555555555555556,
              "#d8576b"
             ],
             [
              0.6666666666666666,
              "#ed7953"
             ],
             [
              0.7777777777777778,
              "#fb9f3a"
             ],
             [
              0.8888888888888888,
              "#fdca26"
             ],
             [
              1,
              "#f0f921"
             ]
            ],
            "type": "contour"
           }
          ],
          "contourcarpet": [
           {
            "colorbar": {
             "outlinewidth": 0,
             "ticks": ""
            },
            "type": "contourcarpet"
           }
          ],
          "heatmap": [
           {
            "colorbar": {
             "outlinewidth": 0,
             "ticks": ""
            },
            "colorscale": [
             [
              0,
              "#0d0887"
             ],
             [
              0.1111111111111111,
              "#46039f"
             ],
             [
              0.2222222222222222,
              "#7201a8"
             ],
             [
              0.3333333333333333,
              "#9c179e"
             ],
             [
              0.4444444444444444,
              "#bd3786"
             ],
             [
              0.5555555555555556,
              "#d8576b"
             ],
             [
              0.6666666666666666,
              "#ed7953"
             ],
             [
              0.7777777777777778,
              "#fb9f3a"
             ],
             [
              0.8888888888888888,
              "#fdca26"
             ],
             [
              1,
              "#f0f921"
             ]
            ],
            "type": "heatmap"
           }
          ],
          "heatmapgl": [
           {
            "colorbar": {
             "outlinewidth": 0,
             "ticks": ""
            },
            "colorscale": [
             [
              0,
              "#0d0887"
             ],
             [
              0.1111111111111111,
              "#46039f"
             ],
             [
              0.2222222222222222,
              "#7201a8"
             ],
             [
              0.3333333333333333,
              "#9c179e"
             ],
             [
              0.4444444444444444,
              "#bd3786"
             ],
             [
              0.5555555555555556,
              "#d8576b"
             ],
             [
              0.6666666666666666,
              "#ed7953"
             ],
             [
              0.7777777777777778,
              "#fb9f3a"
             ],
             [
              0.8888888888888888,
              "#fdca26"
             ],
             [
              1,
              "#f0f921"
             ]
            ],
            "type": "heatmapgl"
           }
          ],
          "histogram": [
           {
            "marker": {
             "pattern": {
              "fillmode": "overlay",
              "size": 10,
              "solidity": 0.2
             }
            },
            "type": "histogram"
           }
          ],
          "histogram2d": [
           {
            "colorbar": {
             "outlinewidth": 0,
             "ticks": ""
            },
            "colorscale": [
             [
              0,
              "#0d0887"
             ],
             [
              0.1111111111111111,
              "#46039f"
             ],
             [
              0.2222222222222222,
              "#7201a8"
             ],
             [
              0.3333333333333333,
              "#9c179e"
             ],
             [
              0.4444444444444444,
              "#bd3786"
             ],
             [
              0.5555555555555556,
              "#d8576b"
             ],
             [
              0.6666666666666666,
              "#ed7953"
             ],
             [
              0.7777777777777778,
              "#fb9f3a"
             ],
             [
              0.8888888888888888,
              "#fdca26"
             ],
             [
              1,
              "#f0f921"
             ]
            ],
            "type": "histogram2d"
           }
          ],
          "histogram2dcontour": [
           {
            "colorbar": {
             "outlinewidth": 0,
             "ticks": ""
            },
            "colorscale": [
             [
              0,
              "#0d0887"
             ],
             [
              0.1111111111111111,
              "#46039f"
             ],
             [
              0.2222222222222222,
              "#7201a8"
             ],
             [
              0.3333333333333333,
              "#9c179e"
             ],
             [
              0.4444444444444444,
              "#bd3786"
             ],
             [
              0.5555555555555556,
              "#d8576b"
             ],
             [
              0.6666666666666666,
              "#ed7953"
             ],
             [
              0.7777777777777778,
              "#fb9f3a"
             ],
             [
              0.8888888888888888,
              "#fdca26"
             ],
             [
              1,
              "#f0f921"
             ]
            ],
            "type": "histogram2dcontour"
           }
          ],
          "mesh3d": [
           {
            "colorbar": {
             "outlinewidth": 0,
             "ticks": ""
            },
            "type": "mesh3d"
           }
          ],
          "parcoords": [
           {
            "line": {
             "colorbar": {
              "outlinewidth": 0,
              "ticks": ""
             }
            },
            "type": "parcoords"
           }
          ],
          "pie": [
           {
            "automargin": true,
            "type": "pie"
           }
          ],
          "scatter": [
           {
            "fillpattern": {
             "fillmode": "overlay",
             "size": 10,
             "solidity": 0.2
            },
            "type": "scatter"
           }
          ],
          "scatter3d": [
           {
            "line": {
             "colorbar": {
              "outlinewidth": 0,
              "ticks": ""
             }
            },
            "marker": {
             "colorbar": {
              "outlinewidth": 0,
              "ticks": ""
             }
            },
            "type": "scatter3d"
           }
          ],
          "scattercarpet": [
           {
            "marker": {
             "colorbar": {
              "outlinewidth": 0,
              "ticks": ""
             }
            },
            "type": "scattercarpet"
           }
          ],
          "scattergeo": [
           {
            "marker": {
             "colorbar": {
              "outlinewidth": 0,
              "ticks": ""
             }
            },
            "type": "scattergeo"
           }
          ],
          "scattergl": [
           {
            "marker": {
             "colorbar": {
              "outlinewidth": 0,
              "ticks": ""
             }
            },
            "type": "scattergl"
           }
          ],
          "scattermapbox": [
           {
            "marker": {
             "colorbar": {
              "outlinewidth": 0,
              "ticks": ""
             }
            },
            "type": "scattermapbox"
           }
          ],
          "scatterpolar": [
           {
            "marker": {
             "colorbar": {
              "outlinewidth": 0,
              "ticks": ""
             }
            },
            "type": "scatterpolar"
           }
          ],
          "scatterpolargl": [
           {
            "marker": {
             "colorbar": {
              "outlinewidth": 0,
              "ticks": ""
             }
            },
            "type": "scatterpolargl"
           }
          ],
          "scatterternary": [
           {
            "marker": {
             "colorbar": {
              "outlinewidth": 0,
              "ticks": ""
             }
            },
            "type": "scatterternary"
           }
          ],
          "surface": [
           {
            "colorbar": {
             "outlinewidth": 0,
             "ticks": ""
            },
            "colorscale": [
             [
              0,
              "#0d0887"
             ],
             [
              0.1111111111111111,
              "#46039f"
             ],
             [
              0.2222222222222222,
              "#7201a8"
             ],
             [
              0.3333333333333333,
              "#9c179e"
             ],
             [
              0.4444444444444444,
              "#bd3786"
             ],
             [
              0.5555555555555556,
              "#d8576b"
             ],
             [
              0.6666666666666666,
              "#ed7953"
             ],
             [
              0.7777777777777778,
              "#fb9f3a"
             ],
             [
              0.8888888888888888,
              "#fdca26"
             ],
             [
              1,
              "#f0f921"
             ]
            ],
            "type": "surface"
           }
          ],
          "table": [
           {
            "cells": {
             "fill": {
              "color": "#EBF0F8"
             },
             "line": {
              "color": "white"
             }
            },
            "header": {
             "fill": {
              "color": "#C8D4E3"
             },
             "line": {
              "color": "white"
             }
            },
            "type": "table"
           }
          ]
         },
         "layout": {
          "annotationdefaults": {
           "arrowcolor": "#2a3f5f",
           "arrowhead": 0,
           "arrowwidth": 1
          },
          "autotypenumbers": "strict",
          "coloraxis": {
           "colorbar": {
            "outlinewidth": 0,
            "ticks": ""
           }
          },
          "colorscale": {
           "diverging": [
            [
             0,
             "#8e0152"
            ],
            [
             0.1,
             "#c51b7d"
            ],
            [
             0.2,
             "#de77ae"
            ],
            [
             0.3,
             "#f1b6da"
            ],
            [
             0.4,
             "#fde0ef"
            ],
            [
             0.5,
             "#f7f7f7"
            ],
            [
             0.6,
             "#e6f5d0"
            ],
            [
             0.7,
             "#b8e186"
            ],
            [
             0.8,
             "#7fbc41"
            ],
            [
             0.9,
             "#4d9221"
            ],
            [
             1,
             "#276419"
            ]
           ],
           "sequential": [
            [
             0,
             "#0d0887"
            ],
            [
             0.1111111111111111,
             "#46039f"
            ],
            [
             0.2222222222222222,
             "#7201a8"
            ],
            [
             0.3333333333333333,
             "#9c179e"
            ],
            [
             0.4444444444444444,
             "#bd3786"
            ],
            [
             0.5555555555555556,
             "#d8576b"
            ],
            [
             0.6666666666666666,
             "#ed7953"
            ],
            [
             0.7777777777777778,
             "#fb9f3a"
            ],
            [
             0.8888888888888888,
             "#fdca26"
            ],
            [
             1,
             "#f0f921"
            ]
           ],
           "sequentialminus": [
            [
             0,
             "#0d0887"
            ],
            [
             0.1111111111111111,
             "#46039f"
            ],
            [
             0.2222222222222222,
             "#7201a8"
            ],
            [
             0.3333333333333333,
             "#9c179e"
            ],
            [
             0.4444444444444444,
             "#bd3786"
            ],
            [
             0.5555555555555556,
             "#d8576b"
            ],
            [
             0.6666666666666666,
             "#ed7953"
            ],
            [
             0.7777777777777778,
             "#fb9f3a"
            ],
            [
             0.8888888888888888,
             "#fdca26"
            ],
            [
             1,
             "#f0f921"
            ]
           ]
          },
          "colorway": [
           "#636efa",
           "#EF553B",
           "#00cc96",
           "#ab63fa",
           "#FFA15A",
           "#19d3f3",
           "#FF6692",
           "#B6E880",
           "#FF97FF",
           "#FECB52"
          ],
          "font": {
           "color": "#2a3f5f"
          },
          "geo": {
           "bgcolor": "white",
           "lakecolor": "white",
           "landcolor": "#E5ECF6",
           "showlakes": true,
           "showland": true,
           "subunitcolor": "white"
          },
          "hoverlabel": {
           "align": "left"
          },
          "hovermode": "closest",
          "mapbox": {
           "style": "light"
          },
          "paper_bgcolor": "white",
          "plot_bgcolor": "#E5ECF6",
          "polar": {
           "angularaxis": {
            "gridcolor": "white",
            "linecolor": "white",
            "ticks": ""
           },
           "bgcolor": "#E5ECF6",
           "radialaxis": {
            "gridcolor": "white",
            "linecolor": "white",
            "ticks": ""
           }
          },
          "scene": {
           "xaxis": {
            "backgroundcolor": "#E5ECF6",
            "gridcolor": "white",
            "gridwidth": 2,
            "linecolor": "white",
            "showbackground": true,
            "ticks": "",
            "zerolinecolor": "white"
           },
           "yaxis": {
            "backgroundcolor": "#E5ECF6",
            "gridcolor": "white",
            "gridwidth": 2,
            "linecolor": "white",
            "showbackground": true,
            "ticks": "",
            "zerolinecolor": "white"
           },
           "zaxis": {
            "backgroundcolor": "#E5ECF6",
            "gridcolor": "white",
            "gridwidth": 2,
            "linecolor": "white",
            "showbackground": true,
            "ticks": "",
            "zerolinecolor": "white"
           }
          },
          "shapedefaults": {
           "line": {
            "color": "#2a3f5f"
           }
          },
          "ternary": {
           "aaxis": {
            "gridcolor": "white",
            "linecolor": "white",
            "ticks": ""
           },
           "baxis": {
            "gridcolor": "white",
            "linecolor": "white",
            "ticks": ""
           },
           "bgcolor": "#E5ECF6",
           "caxis": {
            "gridcolor": "white",
            "linecolor": "white",
            "ticks": ""
           }
          },
          "title": {
           "x": 0.05
          },
          "xaxis": {
           "automargin": true,
           "gridcolor": "white",
           "linecolor": "white",
           "ticks": "",
           "title": {
            "standoff": 15
           },
           "zerolinecolor": "white",
           "zerolinewidth": 2
          },
          "yaxis": {
           "automargin": true,
           "gridcolor": "white",
           "linecolor": "white",
           "ticks": "",
           "title": {
            "standoff": 15
           },
           "zerolinecolor": "white",
           "zerolinewidth": 2
          }
         }
        },
        "title": {
         "text": "Sales with TV Advertisement"
        },
        "xaxis": {
         "anchor": "y",
         "domain": [
          0,
          1
         ],
         "title": {
          "text": "TV"
         }
        },
        "yaxis": {
         "anchor": "x",
         "domain": [
          0,
          1
         ],
         "title": {
          "text": "Sales"
         }
        }
       }
      },
      "text/html": [
       "<div>                            <div id=\"2a03b726-580e-45c6-97c5-7bfa3025eca2\" class=\"plotly-graph-div\" style=\"height:525px; width:100%;\"></div>            <script type=\"text/javascript\">                require([\"plotly\"], function(Plotly) {                    window.PLOTLYENV=window.PLOTLYENV || {};                                    if (document.getElementById(\"2a03b726-580e-45c6-97c5-7bfa3025eca2\")) {                    Plotly.newPlot(                        \"2a03b726-580e-45c6-97c5-7bfa3025eca2\",                        [{\"hovertemplate\":\"TV=%{marker.size}<br>Sales=%{y}<extra></extra>\",\"legendgroup\":\"\",\"marker\":{\"color\":\"#636efa\",\"size\":[230.1,44.5,17.2,151.5,180.8,8.7,57.5,120.2,8.6,199.8,66.1,214.7,23.8,97.5,204.1,195.4,67.8,281.4,69.2,147.3,218.4,237.4,13.2,228.3,62.3,262.9,142.9,240.1,248.8,70.6,292.9,112.9,97.2,265.6,95.7,290.7,266.9,74.7,43.1,228.0,202.5,177.0,293.6,206.9,25.1,175.1,89.7,239.9,227.2,66.9,199.8,100.4,216.4,182.6,262.7,198.9,7.3,136.2,210.8,210.7,53.5,261.3,239.3,102.7,131.1,69.0,31.5,139.3,237.4,216.8,199.1,109.8,26.8,129.4,213.4,16.9,27.5,120.5,5.4,116.0,76.4,239.8,75.3,68.4,213.5,193.2,76.3,110.7,88.3,109.8,134.3,28.6,217.7,250.9,107.4,163.3,197.6,184.9,289.7,135.2,222.4,296.4,280.2,187.9,238.2,137.9,25.0,90.4,13.1,255.4,225.8,241.7,175.7,209.6,78.2,75.1,139.2,76.4,125.7,19.4,141.3,18.8,224.0,123.1,229.5,87.2,7.8,80.2,220.3,59.6,0.7,265.2,8.4,219.8,36.9,48.3,25.6,273.7,43.0,184.9,73.4,193.7,220.5,104.6,96.2,140.3,240.1,243.2,38.0,44.7,280.7,121.0,197.6,171.3,187.8,4.1,93.9,149.8,11.7,131.7,172.5,85.7,188.4,163.5,117.2,234.5,17.9,206.8,215.4,284.3,50.0,164.5,19.6,168.4,222.4,276.9,248.4,170.2,276.7,165.6,156.6,218.5,56.2,287.6,253.8,205.0,139.5,191.1,286.0,18.7,39.5,75.5,17.2,166.8,149.7,38.2,94.2,177.0,283.6,232.1],\"sizemode\":\"area\",\"sizeref\":0.741,\"symbol\":\"circle\"},\"mode\":\"markers\",\"name\":\"\",\"orientation\":\"v\",\"showlegend\":false,\"x\":[230.1,44.5,17.2,151.5,180.8,8.7,57.5,120.2,8.6,199.8,66.1,214.7,23.8,97.5,204.1,195.4,67.8,281.4,69.2,147.3,218.4,237.4,13.2,228.3,62.3,262.9,142.9,240.1,248.8,70.6,292.9,112.9,97.2,265.6,95.7,290.7,266.9,74.7,43.1,228.0,202.5,177.0,293.6,206.9,25.1,175.1,89.7,239.9,227.2,66.9,199.8,100.4,216.4,182.6,262.7,198.9,7.3,136.2,210.8,210.7,53.5,261.3,239.3,102.7,131.1,69.0,31.5,139.3,237.4,216.8,199.1,109.8,26.8,129.4,213.4,16.9,27.5,120.5,5.4,116.0,76.4,239.8,75.3,68.4,213.5,193.2,76.3,110.7,88.3,109.8,134.3,28.6,217.7,250.9,107.4,163.3,197.6,184.9,289.7,135.2,222.4,296.4,280.2,187.9,238.2,137.9,25.0,90.4,13.1,255.4,225.8,241.7,175.7,209.6,78.2,75.1,139.2,76.4,125.7,19.4,141.3,18.8,224.0,123.1,229.5,87.2,7.8,80.2,220.3,59.6,0.7,265.2,8.4,219.8,36.9,48.3,25.6,273.7,43.0,184.9,73.4,193.7,220.5,104.6,96.2,140.3,240.1,243.2,38.0,44.7,280.7,121.0,197.6,171.3,187.8,4.1,93.9,149.8,11.7,131.7,172.5,85.7,188.4,163.5,117.2,234.5,17.9,206.8,215.4,284.3,50.0,164.5,19.6,168.4,222.4,276.9,248.4,170.2,276.7,165.6,156.6,218.5,56.2,287.6,253.8,205.0,139.5,191.1,286.0,18.7,39.5,75.5,17.2,166.8,149.7,38.2,94.2,177.0,283.6,232.1],\"xaxis\":\"x\",\"y\":[22.1,10.4,12.0,16.5,17.9,7.2,11.8,13.2,4.8,15.6,12.6,17.4,9.2,13.7,19.0,22.4,12.5,24.4,11.3,14.6,18.0,17.5,5.6,20.5,9.7,17.0,15.0,20.9,18.9,10.5,21.4,11.9,13.2,17.4,11.9,17.8,25.4,14.7,10.1,21.5,16.6,17.1,20.7,17.9,8.5,16.1,10.6,23.2,19.8,9.7,16.4,10.7,22.6,21.2,20.2,23.7,5.5,13.2,23.8,18.4,8.1,24.2,20.7,14.0,16.0,11.3,11.0,13.4,18.9,22.3,18.3,12.4,8.8,11.0,17.0,8.7,6.9,14.2,5.3,11.0,11.8,17.3,11.3,13.6,21.7,20.2,12.0,16.0,12.9,16.7,14.0,7.3,19.4,22.2,11.5,16.9,16.7,20.5,25.4,17.2,16.7,23.8,19.8,19.7,20.7,15.0,7.2,12.0,5.3,19.8,18.4,21.8,17.1,20.9,14.6,12.6,12.2,9.4,15.9,6.6,15.5,7.0,16.6,15.2,19.7,10.6,6.6,11.9,24.7,9.7,1.6,17.7,5.7,19.6,10.8,11.6,9.5,20.8,9.6,20.7,10.9,19.2,20.1,10.4,12.3,10.3,18.2,25.4,10.9,10.1,16.1,11.6,16.6,16.0,20.6,3.2,15.3,10.1,7.3,12.9,16.4,13.3,19.9,18.0,11.9,16.9,8.0,17.2,17.1,20.0,8.4,17.5,7.6,16.7,16.5,27.0,20.2,16.7,16.8,17.6,15.5,17.2,8.7,26.2,17.6,22.6,10.3,17.3,20.9,6.7,10.8,11.9,5.9,19.6,17.3,7.6,14.0,14.8,25.5,18.4],\"yaxis\":\"y\",\"type\":\"scatter\"},{\"hovertemplate\":\"<b>OLS trendline</b><br>Sales = 0.0554648 * TV + 6.97482<br>R<sup>2</sup>=0.812176<br><br>TV=%{x}<br>Sales=%{y} <b>(trend)</b><extra></extra>\",\"legendgroup\":\"\",\"marker\":{\"color\":\"#636efa\",\"symbol\":\"circle\"},\"mode\":\"lines\",\"name\":\"\",\"showlegend\":false,\"x\":[0.7,4.1,5.4,7.3,7.8,8.4,8.6,8.7,11.7,13.1,13.2,16.9,17.2,17.2,17.9,18.7,18.8,19.4,19.6,23.8,25.0,25.1,25.6,26.8,27.5,28.6,31.5,36.9,38.0,38.2,39.5,43.0,43.1,44.5,44.7,48.3,50.0,53.5,56.2,57.5,59.6,62.3,66.1,66.9,67.8,68.4,69.0,69.2,70.6,73.4,74.7,75.1,75.3,75.5,76.3,76.4,76.4,78.2,80.2,85.7,87.2,88.3,89.7,90.4,93.9,94.2,95.7,96.2,97.2,97.5,100.4,102.7,104.6,107.4,109.8,109.8,110.7,112.9,116.0,117.2,120.2,120.5,121.0,123.1,125.7,129.4,131.1,131.7,134.3,135.2,136.2,137.9,139.2,139.3,139.5,140.3,141.3,142.9,147.3,149.7,149.8,151.5,156.6,163.3,163.5,164.5,165.6,166.8,168.4,170.2,171.3,172.5,175.1,175.7,177.0,177.0,180.8,182.6,184.9,184.9,187.8,187.9,188.4,191.1,193.2,193.7,195.4,197.6,197.6,198.9,199.1,199.8,199.8,202.5,204.1,205.0,206.8,206.9,209.6,210.7,210.8,213.4,213.5,214.7,215.4,216.4,216.8,217.7,218.4,218.5,219.8,220.3,220.5,222.4,222.4,224.0,225.8,227.2,228.0,228.3,229.5,230.1,232.1,234.5,237.4,237.4,238.2,239.3,239.8,239.9,240.1,240.1,241.7,243.2,248.4,248.8,250.9,253.8,255.4,261.3,262.7,262.9,265.2,265.6,266.9,273.7,276.7,276.9,280.2,280.7,281.4,283.6,284.3,286.0,287.6,289.7,290.7,292.9,293.6,296.4],\"xaxis\":\"x\",\"y\":[7.013646827558583,7.202227047155083,7.27433124876551,7.379714312657671,7.407446697892451,7.440725560174186,7.451818514268098,7.457364991315053,7.623759302723729,7.701409981381112,7.706956458428068,7.9121761091654355,7.928815540306303,7.928815540306303,7.9676408796349945,8.012012696010641,8.017559173057597,8.050838035339332,8.061930989433245,8.294883025405392,8.361440749968862,8.366987227015818,8.394719612250597,8.461277336814067,8.50010267614276,8.561113923659274,8.721961758020994,9.021471518556613,9.082482766073127,9.093575720167038,9.165679921777464,9.35980661842092,9.365353095467876,9.443003774125259,9.45409672821917,9.653769901909582,9.748060011707832,9.942186708351288,10.091941588619097,10.164045790229524,10.280521808215598,10.430276688483406,10.64104281626773,10.685414632643377,10.735332926065979,10.768611788347716,10.80189065062945,10.812983604723362,10.890634283380743,11.04593564069551,11.118039842305937,11.140225750493759,11.15131870458767,11.162411658681583,11.206783475057229,11.212329952104184,11.212329952104184,11.312166538949391,11.42309607988851,11.728152317471082,11.81134947317542,11.872360720691935,11.950011399349318,11.98883673867801,12.182963435321465,12.199602866462332,12.282800022166672,12.31053240740145,12.365997177871009,12.382636609011875,12.543484443373597,12.671053415453581,12.776436479345744,12.93173783666051,13.06485328578745,13.06485328578745,13.114771579210053,13.236794074243083,13.408734862698715,13.475292587262185,13.641686898670862,13.658326329811729,13.686058715046508,13.802534733032582,13.946743136253435,14.151962786990804,14.246252896789052,14.279531759070787,14.423740162291642,14.473658455714244,14.529123226183803,14.623413335982054,14.69551753759248,14.701064014639435,14.712156968733346,14.756528785108994,14.811993555578553,14.900737188329847,15.144782178395907,15.277897627522847,15.283444104569803,15.377734214368054,15.660604543762801,16.032218505908848,16.04331146000276,16.098776230472318,16.159787477988832,16.226345202552302,16.315088835303598,16.4149254221488,16.47593666966532,16.542494394228786,16.68670279744964,16.719981659731374,16.792085861341803,16.792085861341803,17.00285198912613,17.10268857597133,17.230257548051316,17.230257548051316,17.391105382413038,17.396651859459993,17.424384244694775,17.57413912496258,17.690615142948655,17.718347528183433,17.812637637981684,17.934660133014713,17.934660133014713,18.006764334625142,18.017857288719053,18.056682628047746,18.056682628047746,18.206437508315553,18.295181141066845,18.34509943448945,18.444936021334655,18.45048249838161,18.60023737864942,18.661248626165936,18.66679510321289,18.811003506433742,18.816549983480698,18.883107708044168,18.92193304737286,18.97739781784242,18.999583726030245,19.049502019452845,19.088327358781537,19.093873835828493,19.165978037438922,19.1937104226737,19.20480337676761,19.310186440659773,19.310186440659773,19.398930073411066,19.498766660256273,19.576417338913654,19.6207891552893,19.637428586430172,19.703986310993642,19.737265173275375,19.848194714214493,19.981310163341433,20.142157997703155,20.142157997703155,20.186529814078803,20.247541061595317,20.2752734468301,20.280819923877054,20.291912877970965,20.291912877970965,20.380656510722257,20.463853666426594,20.752270472868304,20.774456381056126,20.8909323990422,21.05178023340392,21.140523866155213,21.46776601192561,21.545416690582993,21.556509644676904,21.68407861675689,21.706264524944714,21.77836872655514,22.15552916574814,22.321923477156815,22.333016431250726,22.516050173800274,22.54378255903505,22.582607898363744,22.704630393396773,22.743455732725465,22.837745842523713,22.92648947527501,23.042965493261082,23.09843026373064,23.22045275876367,23.259278098092363,23.414579455407125],\"yaxis\":\"y\",\"type\":\"scatter\"}],                        {\"template\":{\"data\":{\"histogram2dcontour\":[{\"type\":\"histogram2dcontour\",\"colorbar\":{\"outlinewidth\":0,\"ticks\":\"\"},\"colorscale\":[[0.0,\"#0d0887\"],[0.1111111111111111,\"#46039f\"],[0.2222222222222222,\"#7201a8\"],[0.3333333333333333,\"#9c179e\"],[0.4444444444444444,\"#bd3786\"],[0.5555555555555556,\"#d8576b\"],[0.6666666666666666,\"#ed7953\"],[0.7777777777777778,\"#fb9f3a\"],[0.8888888888888888,\"#fdca26\"],[1.0,\"#f0f921\"]]}],\"choropleth\":[{\"type\":\"choropleth\",\"colorbar\":{\"outlinewidth\":0,\"ticks\":\"\"}}],\"histogram2d\":[{\"type\":\"histogram2d\",\"colorbar\":{\"outlinewidth\":0,\"ticks\":\"\"},\"colorscale\":[[0.0,\"#0d0887\"],[0.1111111111111111,\"#46039f\"],[0.2222222222222222,\"#7201a8\"],[0.3333333333333333,\"#9c179e\"],[0.4444444444444444,\"#bd3786\"],[0.5555555555555556,\"#d8576b\"],[0.6666666666666666,\"#ed7953\"],[0.7777777777777778,\"#fb9f3a\"],[0.8888888888888888,\"#fdca26\"],[1.0,\"#f0f921\"]]}],\"heatmap\":[{\"type\":\"heatmap\",\"colorbar\":{\"outlinewidth\":0,\"ticks\":\"\"},\"colorscale\":[[0.0,\"#0d0887\"],[0.1111111111111111,\"#46039f\"],[0.2222222222222222,\"#7201a8\"],[0.3333333333333333,\"#9c179e\"],[0.4444444444444444,\"#bd3786\"],[0.5555555555555556,\"#d8576b\"],[0.6666666666666666,\"#ed7953\"],[0.7777777777777778,\"#fb9f3a\"],[0.8888888888888888,\"#fdca26\"],[1.0,\"#f0f921\"]]}],\"heatmapgl\":[{\"type\":\"heatmapgl\",\"colorbar\":{\"outlinewidth\":0,\"ticks\":\"\"},\"colorscale\":[[0.0,\"#0d0887\"],[0.1111111111111111,\"#46039f\"],[0.2222222222222222,\"#7201a8\"],[0.3333333333333333,\"#9c179e\"],[0.4444444444444444,\"#bd3786\"],[0.5555555555555556,\"#d8576b\"],[0.6666666666666666,\"#ed7953\"],[0.7777777777777778,\"#fb9f3a\"],[0.8888888888888888,\"#fdca26\"],[1.0,\"#f0f921\"]]}],\"contourcarpet\":[{\"type\":\"contourcarpet\",\"colorbar\":{\"outlinewidth\":0,\"ticks\":\"\"}}],\"contour\":[{\"type\":\"contour\",\"colorbar\":{\"outlinewidth\":0,\"ticks\":\"\"},\"colorscale\":[[0.0,\"#0d0887\"],[0.1111111111111111,\"#46039f\"],[0.2222222222222222,\"#7201a8\"],[0.3333333333333333,\"#9c179e\"],[0.4444444444444444,\"#bd3786\"],[0.5555555555555556,\"#d8576b\"],[0.6666666666666666,\"#ed7953\"],[0.7777777777777778,\"#fb9f3a\"],[0.8888888888888888,\"#fdca26\"],[1.0,\"#f0f921\"]]}],\"surface\":[{\"type\":\"surface\",\"colorbar\":{\"outlinewidth\":0,\"ticks\":\"\"},\"colorscale\":[[0.0,\"#0d0887\"],[0.1111111111111111,\"#46039f\"],[0.2222222222222222,\"#7201a8\"],[0.3333333333333333,\"#9c179e\"],[0.4444444444444444,\"#bd3786\"],[0.5555555555555556,\"#d8576b\"],[0.6666666666666666,\"#ed7953\"],[0.7777777777777778,\"#fb9f3a\"],[0.8888888888888888,\"#fdca26\"],[1.0,\"#f0f921\"]]}],\"mesh3d\":[{\"type\":\"mesh3d\",\"colorbar\":{\"outlinewidth\":0,\"ticks\":\"\"}}],\"scatter\":[{\"fillpattern\":{\"fillmode\":\"overlay\",\"size\":10,\"solidity\":0.2},\"type\":\"scatter\"}],\"parcoords\":[{\"type\":\"parcoords\",\"line\":{\"colorbar\":{\"outlinewidth\":0,\"ticks\":\"\"}}}],\"scatterpolargl\":[{\"type\":\"scatterpolargl\",\"marker\":{\"colorbar\":{\"outlinewidth\":0,\"ticks\":\"\"}}}],\"bar\":[{\"error_x\":{\"color\":\"#2a3f5f\"},\"error_y\":{\"color\":\"#2a3f5f\"},\"marker\":{\"line\":{\"color\":\"#E5ECF6\",\"width\":0.5},\"pattern\":{\"fillmode\":\"overlay\",\"size\":10,\"solidity\":0.2}},\"type\":\"bar\"}],\"scattergeo\":[{\"type\":\"scattergeo\",\"marker\":{\"colorbar\":{\"outlinewidth\":0,\"ticks\":\"\"}}}],\"scatterpolar\":[{\"type\":\"scatterpolar\",\"marker\":{\"colorbar\":{\"outlinewidth\":0,\"ticks\":\"\"}}}],\"histogram\":[{\"marker\":{\"pattern\":{\"fillmode\":\"overlay\",\"size\":10,\"solidity\":0.2}},\"type\":\"histogram\"}],\"scattergl\":[{\"type\":\"scattergl\",\"marker\":{\"colorbar\":{\"outlinewidth\":0,\"ticks\":\"\"}}}],\"scatter3d\":[{\"type\":\"scatter3d\",\"line\":{\"colorbar\":{\"outlinewidth\":0,\"ticks\":\"\"}},\"marker\":{\"colorbar\":{\"outlinewidth\":0,\"ticks\":\"\"}}}],\"scattermapbox\":[{\"type\":\"scattermapbox\",\"marker\":{\"colorbar\":{\"outlinewidth\":0,\"ticks\":\"\"}}}],\"scatterternary\":[{\"type\":\"scatterternary\",\"marker\":{\"colorbar\":{\"outlinewidth\":0,\"ticks\":\"\"}}}],\"scattercarpet\":[{\"type\":\"scattercarpet\",\"marker\":{\"colorbar\":{\"outlinewidth\":0,\"ticks\":\"\"}}}],\"carpet\":[{\"aaxis\":{\"endlinecolor\":\"#2a3f5f\",\"gridcolor\":\"white\",\"linecolor\":\"white\",\"minorgridcolor\":\"white\",\"startlinecolor\":\"#2a3f5f\"},\"baxis\":{\"endlinecolor\":\"#2a3f5f\",\"gridcolor\":\"white\",\"linecolor\":\"white\",\"minorgridcolor\":\"white\",\"startlinecolor\":\"#2a3f5f\"},\"type\":\"carpet\"}],\"table\":[{\"cells\":{\"fill\":{\"color\":\"#EBF0F8\"},\"line\":{\"color\":\"white\"}},\"header\":{\"fill\":{\"color\":\"#C8D4E3\"},\"line\":{\"color\":\"white\"}},\"type\":\"table\"}],\"barpolar\":[{\"marker\":{\"line\":{\"color\":\"#E5ECF6\",\"width\":0.5},\"pattern\":{\"fillmode\":\"overlay\",\"size\":10,\"solidity\":0.2}},\"type\":\"barpolar\"}],\"pie\":[{\"automargin\":true,\"type\":\"pie\"}]},\"layout\":{\"autotypenumbers\":\"strict\",\"colorway\":[\"#636efa\",\"#EF553B\",\"#00cc96\",\"#ab63fa\",\"#FFA15A\",\"#19d3f3\",\"#FF6692\",\"#B6E880\",\"#FF97FF\",\"#FECB52\"],\"font\":{\"color\":\"#2a3f5f\"},\"hovermode\":\"closest\",\"hoverlabel\":{\"align\":\"left\"},\"paper_bgcolor\":\"white\",\"plot_bgcolor\":\"#E5ECF6\",\"polar\":{\"bgcolor\":\"#E5ECF6\",\"angularaxis\":{\"gridcolor\":\"white\",\"linecolor\":\"white\",\"ticks\":\"\"},\"radialaxis\":{\"gridcolor\":\"white\",\"linecolor\":\"white\",\"ticks\":\"\"}},\"ternary\":{\"bgcolor\":\"#E5ECF6\",\"aaxis\":{\"gridcolor\":\"white\",\"linecolor\":\"white\",\"ticks\":\"\"},\"baxis\":{\"gridcolor\":\"white\",\"linecolor\":\"white\",\"ticks\":\"\"},\"caxis\":{\"gridcolor\":\"white\",\"linecolor\":\"white\",\"ticks\":\"\"}},\"coloraxis\":{\"colorbar\":{\"outlinewidth\":0,\"ticks\":\"\"}},\"colorscale\":{\"sequential\":[[0.0,\"#0d0887\"],[0.1111111111111111,\"#46039f\"],[0.2222222222222222,\"#7201a8\"],[0.3333333333333333,\"#9c179e\"],[0.4444444444444444,\"#bd3786\"],[0.5555555555555556,\"#d8576b\"],[0.6666666666666666,\"#ed7953\"],[0.7777777777777778,\"#fb9f3a\"],[0.8888888888888888,\"#fdca26\"],[1.0,\"#f0f921\"]],\"sequentialminus\":[[0.0,\"#0d0887\"],[0.1111111111111111,\"#46039f\"],[0.2222222222222222,\"#7201a8\"],[0.3333333333333333,\"#9c179e\"],[0.4444444444444444,\"#bd3786\"],[0.5555555555555556,\"#d8576b\"],[0.6666666666666666,\"#ed7953\"],[0.7777777777777778,\"#fb9f3a\"],[0.8888888888888888,\"#fdca26\"],[1.0,\"#f0f921\"]],\"diverging\":[[0,\"#8e0152\"],[0.1,\"#c51b7d\"],[0.2,\"#de77ae\"],[0.3,\"#f1b6da\"],[0.4,\"#fde0ef\"],[0.5,\"#f7f7f7\"],[0.6,\"#e6f5d0\"],[0.7,\"#b8e186\"],[0.8,\"#7fbc41\"],[0.9,\"#4d9221\"],[1,\"#276419\"]]},\"xaxis\":{\"gridcolor\":\"white\",\"linecolor\":\"white\",\"ticks\":\"\",\"title\":{\"standoff\":15},\"zerolinecolor\":\"white\",\"automargin\":true,\"zerolinewidth\":2},\"yaxis\":{\"gridcolor\":\"white\",\"linecolor\":\"white\",\"ticks\":\"\",\"title\":{\"standoff\":15},\"zerolinecolor\":\"white\",\"automargin\":true,\"zerolinewidth\":2},\"scene\":{\"xaxis\":{\"backgroundcolor\":\"#E5ECF6\",\"gridcolor\":\"white\",\"linecolor\":\"white\",\"showbackground\":true,\"ticks\":\"\",\"zerolinecolor\":\"white\",\"gridwidth\":2},\"yaxis\":{\"backgroundcolor\":\"#E5ECF6\",\"gridcolor\":\"white\",\"linecolor\":\"white\",\"showbackground\":true,\"ticks\":\"\",\"zerolinecolor\":\"white\",\"gridwidth\":2},\"zaxis\":{\"backgroundcolor\":\"#E5ECF6\",\"gridcolor\":\"white\",\"linecolor\":\"white\",\"showbackground\":true,\"ticks\":\"\",\"zerolinecolor\":\"white\",\"gridwidth\":2}},\"shapedefaults\":{\"line\":{\"color\":\"#2a3f5f\"}},\"annotationdefaults\":{\"arrowcolor\":\"#2a3f5f\",\"arrowhead\":0,\"arrowwidth\":1},\"geo\":{\"bgcolor\":\"white\",\"landcolor\":\"#E5ECF6\",\"subunitcolor\":\"white\",\"showland\":true,\"showlakes\":true,\"lakecolor\":\"white\"},\"title\":{\"x\":0.05},\"mapbox\":{\"style\":\"light\"}}},\"xaxis\":{\"anchor\":\"y\",\"domain\":[0.0,1.0],\"title\":{\"text\":\"TV\"}},\"yaxis\":{\"anchor\":\"x\",\"domain\":[0.0,1.0],\"title\":{\"text\":\"Sales\"}},\"legend\":{\"tracegroupgap\":0,\"itemsizing\":\"constant\"},\"title\":{\"text\":\"Sales with TV Advertisement\"}},                        {\"responsive\": true}                    ).then(function(){\n",
       "                            \n",
       "var gd = document.getElementById('2a03b726-580e-45c6-97c5-7bfa3025eca2');\n",
       "var x = new MutationObserver(function (mutations, observer) {{\n",
       "        var display = window.getComputedStyle(gd).display;\n",
       "        if (!display || display === 'none') {{\n",
       "            console.log([gd, 'removed!']);\n",
       "            Plotly.purge(gd);\n",
       "            observer.disconnect();\n",
       "        }}\n",
       "}});\n",
       "\n",
       "// Listen for the removal of the full notebook cells\n",
       "var notebookContainer = gd.closest('#notebook-container');\n",
       "if (notebookContainer) {{\n",
       "    x.observe(notebookContainer, {childList: true});\n",
       "}}\n",
       "\n",
       "// Listen for the clearing of the current output cell\n",
       "var outputEl = gd.closest('.output');\n",
       "if (outputEl) {{\n",
       "    x.observe(outputEl, {childList: true});\n",
       "}}\n",
       "\n",
       "                        })                };                });            </script>        </div>"
      ]
     },
     "metadata": {},
     "output_type": "display_data"
    }
   ],
   "source": [
    "#Alternative Visualization\n",
    "import plotly.express as px\n",
    "import plotly.graph_objects as go\n",
    "figure = px.scatter(data_frame = data, x= \"TV\", y= \"Sales\", size=\"TV\", trendline =\"ols\",title=\"Sales with TV Advertisement\")\n",
    "figure.show()"
   ]
  },
  {
   "cell_type": "code",
   "execution_count": 26,
   "id": "70522681",
   "metadata": {},
   "outputs": [
    {
     "data": {
      "application/vnd.plotly.v1+json": {
       "config": {
        "plotlyServerURL": "https://plot.ly"
       },
       "data": [
        {
         "hovertemplate": "Newspaper=%{marker.size}<br>Sales=%{y}<extra></extra>",
         "legendgroup": "",
         "marker": {
          "color": "#636efa",
          "size": [
           69.2,
           45.1,
           69.3,
           58.5,
           58.4,
           75,
           23.5,
           11.6,
           1,
           21.2,
           24.2,
           4,
           65.9,
           7.2,
           46,
           52.9,
           114,
           55.8,
           18.3,
           19.1,
           53.4,
           23.5,
           49.6,
           26.2,
           18.3,
           19.5,
           12.6,
           22.9,
           22.9,
           40.8,
           43.2,
           38.6,
           30,
           0.3,
           7.4,
           8.5,
           5,
           45.7,
           35.1,
           32,
           31.6,
           38.7,
           1.8,
           26.4,
           43.3,
           31.5,
           35.7,
           18.5,
           49.9,
           36.8,
           34.6,
           3.6,
           39.6,
           58.7,
           15.9,
           60,
           41.4,
           16.6,
           37.7,
           9.3,
           21.4,
           54.7,
           27.3,
           8.4,
           28.9,
           0.9,
           2.2,
           10.2,
           11,
           27.2,
           38.7,
           31.7,
           19.3,
           31.3,
           13.1,
           89.4,
           20.7,
           14.2,
           9.4,
           23.1,
           22.3,
           36.9,
           32.5,
           35.6,
           33.8,
           65.7,
           16,
           63.2,
           73.4,
           51.4,
           9.3,
           33,
           59,
           72.3,
           10.9,
           52.9,
           5.9,
           22,
           51.2,
           45.9,
           49.8,
           100.9,
           21.4,
           17.9,
           5.3,
           59,
           29.7,
           23.2,
           25.6,
           5.5,
           56.5,
           23.2,
           2.4,
           10.7,
           34.5,
           52.7,
           25.6,
           14.8,
           79.2,
           22.3,
           46.2,
           50.4,
           15.6,
           12.4,
           74.2,
           25.9,
           50.6,
           9.2,
           3.2,
           43.1,
           8.7,
           43,
           2.1,
           45.1,
           65.6,
           8.5,
           9.3,
           59.7,
           20.5,
           1.7,
           12.9,
           75.6,
           37.9,
           34.4,
           38.9,
           9,
           8.7,
           44.3,
           11.9,
           20.6,
           37,
           48.7,
           14.2,
           37.7,
           9.5,
           5.7,
           50.5,
           24.3,
           45.2,
           34.6,
           30.7,
           49.3,
           25.6,
           7.4,
           5.4,
           84.8,
           21.6,
           19.4,
           57.6,
           6.4,
           18.4,
           47.4,
           17,
           12.8,
           13.1,
           41.8,
           20.3,
           35.2,
           23.7,
           17.6,
           8.3,
           27.4,
           29.7,
           71.8,
           30,
           19.6,
           26.6,
           18.2,
           3.7,
           23.4,
           5.8,
           6,
           31.6,
           3.6,
           6,
           13.8,
           8.1,
           6.4,
           66.2,
           8.7
          ],
          "sizemode": "area",
          "sizeref": 0.285,
          "symbol": "circle"
         },
         "mode": "markers",
         "name": "",
         "orientation": "v",
         "showlegend": false,
         "type": "scatter",
         "x": [
          69.2,
          45.1,
          69.3,
          58.5,
          58.4,
          75,
          23.5,
          11.6,
          1,
          21.2,
          24.2,
          4,
          65.9,
          7.2,
          46,
          52.9,
          114,
          55.8,
          18.3,
          19.1,
          53.4,
          23.5,
          49.6,
          26.2,
          18.3,
          19.5,
          12.6,
          22.9,
          22.9,
          40.8,
          43.2,
          38.6,
          30,
          0.3,
          7.4,
          8.5,
          5,
          45.7,
          35.1,
          32,
          31.6,
          38.7,
          1.8,
          26.4,
          43.3,
          31.5,
          35.7,
          18.5,
          49.9,
          36.8,
          34.6,
          3.6,
          39.6,
          58.7,
          15.9,
          60,
          41.4,
          16.6,
          37.7,
          9.3,
          21.4,
          54.7,
          27.3,
          8.4,
          28.9,
          0.9,
          2.2,
          10.2,
          11,
          27.2,
          38.7,
          31.7,
          19.3,
          31.3,
          13.1,
          89.4,
          20.7,
          14.2,
          9.4,
          23.1,
          22.3,
          36.9,
          32.5,
          35.6,
          33.8,
          65.7,
          16,
          63.2,
          73.4,
          51.4,
          9.3,
          33,
          59,
          72.3,
          10.9,
          52.9,
          5.9,
          22,
          51.2,
          45.9,
          49.8,
          100.9,
          21.4,
          17.9,
          5.3,
          59,
          29.7,
          23.2,
          25.6,
          5.5,
          56.5,
          23.2,
          2.4,
          10.7,
          34.5,
          52.7,
          25.6,
          14.8,
          79.2,
          22.3,
          46.2,
          50.4,
          15.6,
          12.4,
          74.2,
          25.9,
          50.6,
          9.2,
          3.2,
          43.1,
          8.7,
          43,
          2.1,
          45.1,
          65.6,
          8.5,
          9.3,
          59.7,
          20.5,
          1.7,
          12.9,
          75.6,
          37.9,
          34.4,
          38.9,
          9,
          8.7,
          44.3,
          11.9,
          20.6,
          37,
          48.7,
          14.2,
          37.7,
          9.5,
          5.7,
          50.5,
          24.3,
          45.2,
          34.6,
          30.7,
          49.3,
          25.6,
          7.4,
          5.4,
          84.8,
          21.6,
          19.4,
          57.6,
          6.4,
          18.4,
          47.4,
          17,
          12.8,
          13.1,
          41.8,
          20.3,
          35.2,
          23.7,
          17.6,
          8.3,
          27.4,
          29.7,
          71.8,
          30,
          19.6,
          26.6,
          18.2,
          3.7,
          23.4,
          5.8,
          6,
          31.6,
          3.6,
          6,
          13.8,
          8.1,
          6.4,
          66.2,
          8.7
         ],
         "xaxis": "x",
         "y": [
          22.1,
          10.4,
          12,
          16.5,
          17.9,
          7.2,
          11.8,
          13.2,
          4.8,
          15.6,
          12.6,
          17.4,
          9.2,
          13.7,
          19,
          22.4,
          12.5,
          24.4,
          11.3,
          14.6,
          18,
          17.5,
          5.6,
          20.5,
          9.7,
          17,
          15,
          20.9,
          18.9,
          10.5,
          21.4,
          11.9,
          13.2,
          17.4,
          11.9,
          17.8,
          25.4,
          14.7,
          10.1,
          21.5,
          16.6,
          17.1,
          20.7,
          17.9,
          8.5,
          16.1,
          10.6,
          23.2,
          19.8,
          9.7,
          16.4,
          10.7,
          22.6,
          21.2,
          20.2,
          23.7,
          5.5,
          13.2,
          23.8,
          18.4,
          8.1,
          24.2,
          20.7,
          14,
          16,
          11.3,
          11,
          13.4,
          18.9,
          22.3,
          18.3,
          12.4,
          8.8,
          11,
          17,
          8.7,
          6.9,
          14.2,
          5.3,
          11,
          11.8,
          17.3,
          11.3,
          13.6,
          21.7,
          20.2,
          12,
          16,
          12.9,
          16.7,
          14,
          7.3,
          19.4,
          22.2,
          11.5,
          16.9,
          16.7,
          20.5,
          25.4,
          17.2,
          16.7,
          23.8,
          19.8,
          19.7,
          20.7,
          15,
          7.2,
          12,
          5.3,
          19.8,
          18.4,
          21.8,
          17.1,
          20.9,
          14.6,
          12.6,
          12.2,
          9.4,
          15.9,
          6.6,
          15.5,
          7,
          16.6,
          15.2,
          19.7,
          10.6,
          6.6,
          11.9,
          24.7,
          9.7,
          1.6,
          17.7,
          5.7,
          19.6,
          10.8,
          11.6,
          9.5,
          20.8,
          9.6,
          20.7,
          10.9,
          19.2,
          20.1,
          10.4,
          12.3,
          10.3,
          18.2,
          25.4,
          10.9,
          10.1,
          16.1,
          11.6,
          16.6,
          16,
          20.6,
          3.2,
          15.3,
          10.1,
          7.3,
          12.9,
          16.4,
          13.3,
          19.9,
          18,
          11.9,
          16.9,
          8,
          17.2,
          17.1,
          20,
          8.4,
          17.5,
          7.6,
          16.7,
          16.5,
          27,
          20.2,
          16.7,
          16.8,
          17.6,
          15.5,
          17.2,
          8.7,
          26.2,
          17.6,
          22.6,
          10.3,
          17.3,
          20.9,
          6.7,
          10.8,
          11.9,
          5.9,
          19.6,
          17.3,
          7.6,
          14,
          14.8,
          25.5,
          18.4
         ],
         "yaxis": "y"
        },
        {
         "hovertemplate": "<b>OLS trendline</b><br>Sales = 0.038324 * Newspaper + 13.9595<br>R<sup>2</sup>=0.024951<br><br>Newspaper=%{x}<br>Sales=%{y} <b>(trend)</b><extra></extra>",
         "legendgroup": "",
         "marker": {
          "color": "#636efa",
          "symbol": "circle"
         },
         "mode": "lines",
         "name": "",
         "showlegend": false,
         "type": "scatter",
         "x": [
          0.3,
          0.9,
          1,
          1.7,
          1.8,
          2.1,
          2.2,
          2.4,
          3.2,
          3.6,
          3.6,
          3.7,
          4,
          5,
          5.3,
          5.4,
          5.5,
          5.7,
          5.8,
          5.9,
          6,
          6,
          6.4,
          6.4,
          7.2,
          7.4,
          7.4,
          8.1,
          8.3,
          8.4,
          8.5,
          8.5,
          8.7,
          8.7,
          8.7,
          9,
          9.2,
          9.3,
          9.3,
          9.3,
          9.4,
          9.5,
          10.2,
          10.7,
          10.9,
          11,
          11.6,
          11.9,
          12.4,
          12.6,
          12.8,
          12.9,
          13.1,
          13.1,
          13.8,
          14.2,
          14.2,
          14.8,
          15.6,
          15.9,
          16,
          16.6,
          17,
          17.6,
          17.9,
          18.2,
          18.3,
          18.3,
          18.4,
          18.5,
          19.1,
          19.3,
          19.4,
          19.5,
          19.6,
          20.3,
          20.5,
          20.6,
          20.7,
          21.2,
          21.4,
          21.4,
          21.6,
          22,
          22.3,
          22.3,
          22.9,
          22.9,
          23.1,
          23.2,
          23.2,
          23.4,
          23.5,
          23.5,
          23.7,
          24.2,
          24.3,
          25.6,
          25.6,
          25.6,
          25.9,
          26.2,
          26.4,
          26.6,
          27.2,
          27.3,
          27.4,
          28.9,
          29.7,
          29.7,
          30,
          30,
          30.7,
          31.3,
          31.5,
          31.6,
          31.6,
          31.7,
          32,
          32.5,
          33,
          33.8,
          34.4,
          34.5,
          34.6,
          34.6,
          35.1,
          35.2,
          35.6,
          35.7,
          36.8,
          36.9,
          37,
          37.7,
          37.7,
          37.9,
          38.6,
          38.7,
          38.7,
          38.9,
          39.6,
          40.8,
          41.4,
          41.8,
          43,
          43.1,
          43.2,
          43.3,
          44.3,
          45.1,
          45.1,
          45.2,
          45.7,
          45.9,
          46,
          46.2,
          47.4,
          48.7,
          49.3,
          49.6,
          49.8,
          49.9,
          50.4,
          50.5,
          50.6,
          51.2,
          51.4,
          52.7,
          52.9,
          52.9,
          53.4,
          54.7,
          55.8,
          56.5,
          57.6,
          58.4,
          58.5,
          58.7,
          59,
          59,
          59.7,
          60,
          63.2,
          65.6,
          65.7,
          65.9,
          66.2,
          69.2,
          69.3,
          71.8,
          72.3,
          73.4,
          74.2,
          75,
          75.6,
          79.2,
          84.8,
          89.4,
          100.9,
          114
         ],
         "xaxis": "x",
         "y": [
          13.971045852085979,
          13.994040249149124,
          13.99787264865965,
          14.024699445233319,
          14.028531844743844,
          14.040029043275416,
          14.043861442785941,
          14.05152624180699,
          14.082185437891184,
          14.09751503593328,
          14.09751503593328,
          14.101347435443804,
          14.112844633975378,
          14.15116862908062,
          14.162665827612193,
          14.166498227122718,
          14.170330626633241,
          14.17799542565429,
          14.181827825164815,
          14.185660224675338,
          14.189492624185863,
          14.189492624185863,
          14.204822222227959,
          14.204822222227959,
          14.235481418312153,
          14.243146217333202,
          14.243146217333202,
          14.269973013906872,
          14.277637812927921,
          14.281470212438444,
          14.28530261194897,
          14.28530261194897,
          14.292967410970018,
          14.292967410970018,
          14.292967410970018,
          14.30446460950159,
          14.312129408522638,
          14.315961808033164,
          14.315961808033164,
          14.315961808033164,
          14.319794207543687,
          14.323626607054212,
          14.350453403627881,
          14.369615401180504,
          14.377280200201552,
          14.381112599712075,
          14.404106996775221,
          14.415604195306795,
          14.434766192859415,
          14.442430991880464,
          14.450095790901512,
          14.453928190412036,
          14.461592989433084,
          14.461592989433084,
          14.488419786006755,
          14.503749384048852,
          14.503749384048852,
          14.526743781111998,
          14.557402977196192,
          14.568900175727764,
          14.57273257523829,
          14.595726972301435,
          14.611056570343532,
          14.634050967406678,
          14.64554816593825,
          14.657045364469823,
          14.660877763980347,
          14.660877763980347,
          14.66471016349087,
          14.668542563001395,
          14.691536960064541,
          14.69920175908559,
          14.703034158596113,
          14.706866558106638,
          14.710698957617161,
          14.737525754190832,
          14.74519055321188,
          14.749022952722404,
          14.75285535223293,
          14.77201734978555,
          14.779682148806598,
          14.779682148806598,
          14.787346947827647,
          14.802676545869744,
          14.814173744401318,
          14.814173744401318,
          14.837168141464463,
          14.837168141464463,
          14.844832940485512,
          14.848665339996035,
          14.848665339996035,
          14.856330139017084,
          14.860162538527609,
          14.860162538527609,
          14.867827337548658,
          14.886989335101278,
          14.890821734611801,
          14.940642928248618,
          14.940642928248618,
          14.940642928248618,
          14.95214012678019,
          14.963637325311764,
          14.971302124332812,
          14.97896692335386,
          15.001961320417006,
          15.00579371992753,
          15.009626119438055,
          15.067112112095918,
          15.097771308180112,
          15.097771308180112,
          15.109268506711686,
          15.109268506711686,
          15.136095303285355,
          15.1590897003485,
          15.16675449936955,
          15.170586898880075,
          15.170586898880075,
          15.174419298390598,
          15.18591649692217,
          15.205078494474792,
          15.224240492027413,
          15.254899688111607,
          15.277894085174752,
          15.281726484685278,
          15.285558884195801,
          15.285558884195801,
          15.304720881748423,
          15.308553281258947,
          15.323882879301044,
          15.327715278811569,
          15.369871673427335,
          15.373704072937858,
          15.377536472448384,
          15.404363269022053,
          15.404363269022053,
          15.412028068043101,
          15.438854864616772,
          15.442687264127295,
          15.442687264127295,
          15.450352063148344,
          15.477178859722015,
          15.523167653848306,
          15.546162050911452,
          15.561491648953549,
          15.60748044307984,
          15.611312842590364,
          15.615145242100887,
          15.618977641611412,
          15.657301636716655,
          15.687960832800849,
          15.687960832800849,
          15.691793232311372,
          15.710955229863995,
          15.718620028885043,
          15.722452428395567,
          15.730117227416615,
          15.776106021542907,
          15.825927215179723,
          15.848921612242867,
          15.86041881077444,
          15.86808360979549,
          15.871916009306013,
          15.891078006858635,
          15.894910406369158,
          15.898742805879683,
          15.921737202942829,
          15.929402001963878,
          15.979223195600692,
          15.98688799462174,
          15.98688799462174,
          16.00604999217436,
          16.055871185811178,
          16.098027580426944,
          16.124854377000613,
          16.167010771616383,
          16.197669967700577,
          16.2015023672111,
          16.20916716623215,
          16.22066436476372,
          16.22066436476372,
          16.24749116133739,
          16.258988359868965,
          16.381625144205742,
          16.47360273245832,
          16.477435131968846,
          16.485099930989897,
          16.49659712952147,
          16.611569114837195,
          16.61540151434772,
          16.711211502110828,
          16.730373499663447,
          16.772529894279216,
          16.80318909036341,
          16.8338482864476,
          16.85684268351075,
          16.994809065889623,
          17.20942343847898,
          17.385713815963097,
          17.826439759673388,
          18.328484095552064
         ],
         "yaxis": "y"
        }
       ],
       "layout": {
        "legend": {
         "itemsizing": "constant",
         "tracegroupgap": 0
        },
        "template": {
         "data": {
          "bar": [
           {
            "error_x": {
             "color": "#2a3f5f"
            },
            "error_y": {
             "color": "#2a3f5f"
            },
            "marker": {
             "line": {
              "color": "#E5ECF6",
              "width": 0.5
             },
             "pattern": {
              "fillmode": "overlay",
              "size": 10,
              "solidity": 0.2
             }
            },
            "type": "bar"
           }
          ],
          "barpolar": [
           {
            "marker": {
             "line": {
              "color": "#E5ECF6",
              "width": 0.5
             },
             "pattern": {
              "fillmode": "overlay",
              "size": 10,
              "solidity": 0.2
             }
            },
            "type": "barpolar"
           }
          ],
          "carpet": [
           {
            "aaxis": {
             "endlinecolor": "#2a3f5f",
             "gridcolor": "white",
             "linecolor": "white",
             "minorgridcolor": "white",
             "startlinecolor": "#2a3f5f"
            },
            "baxis": {
             "endlinecolor": "#2a3f5f",
             "gridcolor": "white",
             "linecolor": "white",
             "minorgridcolor": "white",
             "startlinecolor": "#2a3f5f"
            },
            "type": "carpet"
           }
          ],
          "choropleth": [
           {
            "colorbar": {
             "outlinewidth": 0,
             "ticks": ""
            },
            "type": "choropleth"
           }
          ],
          "contour": [
           {
            "colorbar": {
             "outlinewidth": 0,
             "ticks": ""
            },
            "colorscale": [
             [
              0,
              "#0d0887"
             ],
             [
              0.1111111111111111,
              "#46039f"
             ],
             [
              0.2222222222222222,
              "#7201a8"
             ],
             [
              0.3333333333333333,
              "#9c179e"
             ],
             [
              0.4444444444444444,
              "#bd3786"
             ],
             [
              0.5555555555555556,
              "#d8576b"
             ],
             [
              0.6666666666666666,
              "#ed7953"
             ],
             [
              0.7777777777777778,
              "#fb9f3a"
             ],
             [
              0.8888888888888888,
              "#fdca26"
             ],
             [
              1,
              "#f0f921"
             ]
            ],
            "type": "contour"
           }
          ],
          "contourcarpet": [
           {
            "colorbar": {
             "outlinewidth": 0,
             "ticks": ""
            },
            "type": "contourcarpet"
           }
          ],
          "heatmap": [
           {
            "colorbar": {
             "outlinewidth": 0,
             "ticks": ""
            },
            "colorscale": [
             [
              0,
              "#0d0887"
             ],
             [
              0.1111111111111111,
              "#46039f"
             ],
             [
              0.2222222222222222,
              "#7201a8"
             ],
             [
              0.3333333333333333,
              "#9c179e"
             ],
             [
              0.4444444444444444,
              "#bd3786"
             ],
             [
              0.5555555555555556,
              "#d8576b"
             ],
             [
              0.6666666666666666,
              "#ed7953"
             ],
             [
              0.7777777777777778,
              "#fb9f3a"
             ],
             [
              0.8888888888888888,
              "#fdca26"
             ],
             [
              1,
              "#f0f921"
             ]
            ],
            "type": "heatmap"
           }
          ],
          "heatmapgl": [
           {
            "colorbar": {
             "outlinewidth": 0,
             "ticks": ""
            },
            "colorscale": [
             [
              0,
              "#0d0887"
             ],
             [
              0.1111111111111111,
              "#46039f"
             ],
             [
              0.2222222222222222,
              "#7201a8"
             ],
             [
              0.3333333333333333,
              "#9c179e"
             ],
             [
              0.4444444444444444,
              "#bd3786"
             ],
             [
              0.5555555555555556,
              "#d8576b"
             ],
             [
              0.6666666666666666,
              "#ed7953"
             ],
             [
              0.7777777777777778,
              "#fb9f3a"
             ],
             [
              0.8888888888888888,
              "#fdca26"
             ],
             [
              1,
              "#f0f921"
             ]
            ],
            "type": "heatmapgl"
           }
          ],
          "histogram": [
           {
            "marker": {
             "pattern": {
              "fillmode": "overlay",
              "size": 10,
              "solidity": 0.2
             }
            },
            "type": "histogram"
           }
          ],
          "histogram2d": [
           {
            "colorbar": {
             "outlinewidth": 0,
             "ticks": ""
            },
            "colorscale": [
             [
              0,
              "#0d0887"
             ],
             [
              0.1111111111111111,
              "#46039f"
             ],
             [
              0.2222222222222222,
              "#7201a8"
             ],
             [
              0.3333333333333333,
              "#9c179e"
             ],
             [
              0.4444444444444444,
              "#bd3786"
             ],
             [
              0.5555555555555556,
              "#d8576b"
             ],
             [
              0.6666666666666666,
              "#ed7953"
             ],
             [
              0.7777777777777778,
              "#fb9f3a"
             ],
             [
              0.8888888888888888,
              "#fdca26"
             ],
             [
              1,
              "#f0f921"
             ]
            ],
            "type": "histogram2d"
           }
          ],
          "histogram2dcontour": [
           {
            "colorbar": {
             "outlinewidth": 0,
             "ticks": ""
            },
            "colorscale": [
             [
              0,
              "#0d0887"
             ],
             [
              0.1111111111111111,
              "#46039f"
             ],
             [
              0.2222222222222222,
              "#7201a8"
             ],
             [
              0.3333333333333333,
              "#9c179e"
             ],
             [
              0.4444444444444444,
              "#bd3786"
             ],
             [
              0.5555555555555556,
              "#d8576b"
             ],
             [
              0.6666666666666666,
              "#ed7953"
             ],
             [
              0.7777777777777778,
              "#fb9f3a"
             ],
             [
              0.8888888888888888,
              "#fdca26"
             ],
             [
              1,
              "#f0f921"
             ]
            ],
            "type": "histogram2dcontour"
           }
          ],
          "mesh3d": [
           {
            "colorbar": {
             "outlinewidth": 0,
             "ticks": ""
            },
            "type": "mesh3d"
           }
          ],
          "parcoords": [
           {
            "line": {
             "colorbar": {
              "outlinewidth": 0,
              "ticks": ""
             }
            },
            "type": "parcoords"
           }
          ],
          "pie": [
           {
            "automargin": true,
            "type": "pie"
           }
          ],
          "scatter": [
           {
            "fillpattern": {
             "fillmode": "overlay",
             "size": 10,
             "solidity": 0.2
            },
            "type": "scatter"
           }
          ],
          "scatter3d": [
           {
            "line": {
             "colorbar": {
              "outlinewidth": 0,
              "ticks": ""
             }
            },
            "marker": {
             "colorbar": {
              "outlinewidth": 0,
              "ticks": ""
             }
            },
            "type": "scatter3d"
           }
          ],
          "scattercarpet": [
           {
            "marker": {
             "colorbar": {
              "outlinewidth": 0,
              "ticks": ""
             }
            },
            "type": "scattercarpet"
           }
          ],
          "scattergeo": [
           {
            "marker": {
             "colorbar": {
              "outlinewidth": 0,
              "ticks": ""
             }
            },
            "type": "scattergeo"
           }
          ],
          "scattergl": [
           {
            "marker": {
             "colorbar": {
              "outlinewidth": 0,
              "ticks": ""
             }
            },
            "type": "scattergl"
           }
          ],
          "scattermapbox": [
           {
            "marker": {
             "colorbar": {
              "outlinewidth": 0,
              "ticks": ""
             }
            },
            "type": "scattermapbox"
           }
          ],
          "scatterpolar": [
           {
            "marker": {
             "colorbar": {
              "outlinewidth": 0,
              "ticks": ""
             }
            },
            "type": "scatterpolar"
           }
          ],
          "scatterpolargl": [
           {
            "marker": {
             "colorbar": {
              "outlinewidth": 0,
              "ticks": ""
             }
            },
            "type": "scatterpolargl"
           }
          ],
          "scatterternary": [
           {
            "marker": {
             "colorbar": {
              "outlinewidth": 0,
              "ticks": ""
             }
            },
            "type": "scatterternary"
           }
          ],
          "surface": [
           {
            "colorbar": {
             "outlinewidth": 0,
             "ticks": ""
            },
            "colorscale": [
             [
              0,
              "#0d0887"
             ],
             [
              0.1111111111111111,
              "#46039f"
             ],
             [
              0.2222222222222222,
              "#7201a8"
             ],
             [
              0.3333333333333333,
              "#9c179e"
             ],
             [
              0.4444444444444444,
              "#bd3786"
             ],
             [
              0.5555555555555556,
              "#d8576b"
             ],
             [
              0.6666666666666666,
              "#ed7953"
             ],
             [
              0.7777777777777778,
              "#fb9f3a"
             ],
             [
              0.8888888888888888,
              "#fdca26"
             ],
             [
              1,
              "#f0f921"
             ]
            ],
            "type": "surface"
           }
          ],
          "table": [
           {
            "cells": {
             "fill": {
              "color": "#EBF0F8"
             },
             "line": {
              "color": "white"
             }
            },
            "header": {
             "fill": {
              "color": "#C8D4E3"
             },
             "line": {
              "color": "white"
             }
            },
            "type": "table"
           }
          ]
         },
         "layout": {
          "annotationdefaults": {
           "arrowcolor": "#2a3f5f",
           "arrowhead": 0,
           "arrowwidth": 1
          },
          "autotypenumbers": "strict",
          "coloraxis": {
           "colorbar": {
            "outlinewidth": 0,
            "ticks": ""
           }
          },
          "colorscale": {
           "diverging": [
            [
             0,
             "#8e0152"
            ],
            [
             0.1,
             "#c51b7d"
            ],
            [
             0.2,
             "#de77ae"
            ],
            [
             0.3,
             "#f1b6da"
            ],
            [
             0.4,
             "#fde0ef"
            ],
            [
             0.5,
             "#f7f7f7"
            ],
            [
             0.6,
             "#e6f5d0"
            ],
            [
             0.7,
             "#b8e186"
            ],
            [
             0.8,
             "#7fbc41"
            ],
            [
             0.9,
             "#4d9221"
            ],
            [
             1,
             "#276419"
            ]
           ],
           "sequential": [
            [
             0,
             "#0d0887"
            ],
            [
             0.1111111111111111,
             "#46039f"
            ],
            [
             0.2222222222222222,
             "#7201a8"
            ],
            [
             0.3333333333333333,
             "#9c179e"
            ],
            [
             0.4444444444444444,
             "#bd3786"
            ],
            [
             0.5555555555555556,
             "#d8576b"
            ],
            [
             0.6666666666666666,
             "#ed7953"
            ],
            [
             0.7777777777777778,
             "#fb9f3a"
            ],
            [
             0.8888888888888888,
             "#fdca26"
            ],
            [
             1,
             "#f0f921"
            ]
           ],
           "sequentialminus": [
            [
             0,
             "#0d0887"
            ],
            [
             0.1111111111111111,
             "#46039f"
            ],
            [
             0.2222222222222222,
             "#7201a8"
            ],
            [
             0.3333333333333333,
             "#9c179e"
            ],
            [
             0.4444444444444444,
             "#bd3786"
            ],
            [
             0.5555555555555556,
             "#d8576b"
            ],
            [
             0.6666666666666666,
             "#ed7953"
            ],
            [
             0.7777777777777778,
             "#fb9f3a"
            ],
            [
             0.8888888888888888,
             "#fdca26"
            ],
            [
             1,
             "#f0f921"
            ]
           ]
          },
          "colorway": [
           "#636efa",
           "#EF553B",
           "#00cc96",
           "#ab63fa",
           "#FFA15A",
           "#19d3f3",
           "#FF6692",
           "#B6E880",
           "#FF97FF",
           "#FECB52"
          ],
          "font": {
           "color": "#2a3f5f"
          },
          "geo": {
           "bgcolor": "white",
           "lakecolor": "white",
           "landcolor": "#E5ECF6",
           "showlakes": true,
           "showland": true,
           "subunitcolor": "white"
          },
          "hoverlabel": {
           "align": "left"
          },
          "hovermode": "closest",
          "mapbox": {
           "style": "light"
          },
          "paper_bgcolor": "white",
          "plot_bgcolor": "#E5ECF6",
          "polar": {
           "angularaxis": {
            "gridcolor": "white",
            "linecolor": "white",
            "ticks": ""
           },
           "bgcolor": "#E5ECF6",
           "radialaxis": {
            "gridcolor": "white",
            "linecolor": "white",
            "ticks": ""
           }
          },
          "scene": {
           "xaxis": {
            "backgroundcolor": "#E5ECF6",
            "gridcolor": "white",
            "gridwidth": 2,
            "linecolor": "white",
            "showbackground": true,
            "ticks": "",
            "zerolinecolor": "white"
           },
           "yaxis": {
            "backgroundcolor": "#E5ECF6",
            "gridcolor": "white",
            "gridwidth": 2,
            "linecolor": "white",
            "showbackground": true,
            "ticks": "",
            "zerolinecolor": "white"
           },
           "zaxis": {
            "backgroundcolor": "#E5ECF6",
            "gridcolor": "white",
            "gridwidth": 2,
            "linecolor": "white",
            "showbackground": true,
            "ticks": "",
            "zerolinecolor": "white"
           }
          },
          "shapedefaults": {
           "line": {
            "color": "#2a3f5f"
           }
          },
          "ternary": {
           "aaxis": {
            "gridcolor": "white",
            "linecolor": "white",
            "ticks": ""
           },
           "baxis": {
            "gridcolor": "white",
            "linecolor": "white",
            "ticks": ""
           },
           "bgcolor": "#E5ECF6",
           "caxis": {
            "gridcolor": "white",
            "linecolor": "white",
            "ticks": ""
           }
          },
          "title": {
           "x": 0.05
          },
          "xaxis": {
           "automargin": true,
           "gridcolor": "white",
           "linecolor": "white",
           "ticks": "",
           "title": {
            "standoff": 15
           },
           "zerolinecolor": "white",
           "zerolinewidth": 2
          },
          "yaxis": {
           "automargin": true,
           "gridcolor": "white",
           "linecolor": "white",
           "ticks": "",
           "title": {
            "standoff": 15
           },
           "zerolinecolor": "white",
           "zerolinewidth": 2
          }
         }
        },
        "title": {
         "text": "Sales with Newspaper Advertisement"
        },
        "xaxis": {
         "anchor": "y",
         "domain": [
          0,
          1
         ],
         "title": {
          "text": "Newspaper"
         }
        },
        "yaxis": {
         "anchor": "x",
         "domain": [
          0,
          1
         ],
         "title": {
          "text": "Sales"
         }
        }
       }
      },
      "text/html": [
       "<div>                            <div id=\"1c99a672-9661-4de1-828a-1fe79467bd21\" class=\"plotly-graph-div\" style=\"height:525px; width:100%;\"></div>            <script type=\"text/javascript\">                require([\"plotly\"], function(Plotly) {                    window.PLOTLYENV=window.PLOTLYENV || {};                                    if (document.getElementById(\"1c99a672-9661-4de1-828a-1fe79467bd21\")) {                    Plotly.newPlot(                        \"1c99a672-9661-4de1-828a-1fe79467bd21\",                        [{\"hovertemplate\":\"Newspaper=%{marker.size}<br>Sales=%{y}<extra></extra>\",\"legendgroup\":\"\",\"marker\":{\"color\":\"#636efa\",\"size\":[69.2,45.1,69.3,58.5,58.4,75.0,23.5,11.6,1.0,21.2,24.2,4.0,65.9,7.2,46.0,52.9,114.0,55.8,18.3,19.1,53.4,23.5,49.6,26.2,18.3,19.5,12.6,22.9,22.9,40.8,43.2,38.6,30.0,0.3,7.4,8.5,5.0,45.7,35.1,32.0,31.6,38.7,1.8,26.4,43.3,31.5,35.7,18.5,49.9,36.8,34.6,3.6,39.6,58.7,15.9,60.0,41.4,16.6,37.7,9.3,21.4,54.7,27.3,8.4,28.9,0.9,2.2,10.2,11.0,27.2,38.7,31.7,19.3,31.3,13.1,89.4,20.7,14.2,9.4,23.1,22.3,36.9,32.5,35.6,33.8,65.7,16.0,63.2,73.4,51.4,9.3,33.0,59.0,72.3,10.9,52.9,5.9,22.0,51.2,45.9,49.8,100.9,21.4,17.9,5.3,59.0,29.7,23.2,25.6,5.5,56.5,23.2,2.4,10.7,34.5,52.7,25.6,14.8,79.2,22.3,46.2,50.4,15.6,12.4,74.2,25.9,50.6,9.2,3.2,43.1,8.7,43.0,2.1,45.1,65.6,8.5,9.3,59.7,20.5,1.7,12.9,75.6,37.9,34.4,38.9,9.0,8.7,44.3,11.9,20.6,37.0,48.7,14.2,37.7,9.5,5.7,50.5,24.3,45.2,34.6,30.7,49.3,25.6,7.4,5.4,84.8,21.6,19.4,57.6,6.4,18.4,47.4,17.0,12.8,13.1,41.8,20.3,35.2,23.7,17.6,8.3,27.4,29.7,71.8,30.0,19.6,26.6,18.2,3.7,23.4,5.8,6.0,31.6,3.6,6.0,13.8,8.1,6.4,66.2,8.7],\"sizemode\":\"area\",\"sizeref\":0.285,\"symbol\":\"circle\"},\"mode\":\"markers\",\"name\":\"\",\"orientation\":\"v\",\"showlegend\":false,\"x\":[69.2,45.1,69.3,58.5,58.4,75.0,23.5,11.6,1.0,21.2,24.2,4.0,65.9,7.2,46.0,52.9,114.0,55.8,18.3,19.1,53.4,23.5,49.6,26.2,18.3,19.5,12.6,22.9,22.9,40.8,43.2,38.6,30.0,0.3,7.4,8.5,5.0,45.7,35.1,32.0,31.6,38.7,1.8,26.4,43.3,31.5,35.7,18.5,49.9,36.8,34.6,3.6,39.6,58.7,15.9,60.0,41.4,16.6,37.7,9.3,21.4,54.7,27.3,8.4,28.9,0.9,2.2,10.2,11.0,27.2,38.7,31.7,19.3,31.3,13.1,89.4,20.7,14.2,9.4,23.1,22.3,36.9,32.5,35.6,33.8,65.7,16.0,63.2,73.4,51.4,9.3,33.0,59.0,72.3,10.9,52.9,5.9,22.0,51.2,45.9,49.8,100.9,21.4,17.9,5.3,59.0,29.7,23.2,25.6,5.5,56.5,23.2,2.4,10.7,34.5,52.7,25.6,14.8,79.2,22.3,46.2,50.4,15.6,12.4,74.2,25.9,50.6,9.2,3.2,43.1,8.7,43.0,2.1,45.1,65.6,8.5,9.3,59.7,20.5,1.7,12.9,75.6,37.9,34.4,38.9,9.0,8.7,44.3,11.9,20.6,37.0,48.7,14.2,37.7,9.5,5.7,50.5,24.3,45.2,34.6,30.7,49.3,25.6,7.4,5.4,84.8,21.6,19.4,57.6,6.4,18.4,47.4,17.0,12.8,13.1,41.8,20.3,35.2,23.7,17.6,8.3,27.4,29.7,71.8,30.0,19.6,26.6,18.2,3.7,23.4,5.8,6.0,31.6,3.6,6.0,13.8,8.1,6.4,66.2,8.7],\"xaxis\":\"x\",\"y\":[22.1,10.4,12.0,16.5,17.9,7.2,11.8,13.2,4.8,15.6,12.6,17.4,9.2,13.7,19.0,22.4,12.5,24.4,11.3,14.6,18.0,17.5,5.6,20.5,9.7,17.0,15.0,20.9,18.9,10.5,21.4,11.9,13.2,17.4,11.9,17.8,25.4,14.7,10.1,21.5,16.6,17.1,20.7,17.9,8.5,16.1,10.6,23.2,19.8,9.7,16.4,10.7,22.6,21.2,20.2,23.7,5.5,13.2,23.8,18.4,8.1,24.2,20.7,14.0,16.0,11.3,11.0,13.4,18.9,22.3,18.3,12.4,8.8,11.0,17.0,8.7,6.9,14.2,5.3,11.0,11.8,17.3,11.3,13.6,21.7,20.2,12.0,16.0,12.9,16.7,14.0,7.3,19.4,22.2,11.5,16.9,16.7,20.5,25.4,17.2,16.7,23.8,19.8,19.7,20.7,15.0,7.2,12.0,5.3,19.8,18.4,21.8,17.1,20.9,14.6,12.6,12.2,9.4,15.9,6.6,15.5,7.0,16.6,15.2,19.7,10.6,6.6,11.9,24.7,9.7,1.6,17.7,5.7,19.6,10.8,11.6,9.5,20.8,9.6,20.7,10.9,19.2,20.1,10.4,12.3,10.3,18.2,25.4,10.9,10.1,16.1,11.6,16.6,16.0,20.6,3.2,15.3,10.1,7.3,12.9,16.4,13.3,19.9,18.0,11.9,16.9,8.0,17.2,17.1,20.0,8.4,17.5,7.6,16.7,16.5,27.0,20.2,16.7,16.8,17.6,15.5,17.2,8.7,26.2,17.6,22.6,10.3,17.3,20.9,6.7,10.8,11.9,5.9,19.6,17.3,7.6,14.0,14.8,25.5,18.4],\"yaxis\":\"y\",\"type\":\"scatter\"},{\"hovertemplate\":\"<b>OLS trendline</b><br>Sales = 0.038324 * Newspaper + 13.9595<br>R<sup>2</sup>=0.024951<br><br>Newspaper=%{x}<br>Sales=%{y} <b>(trend)</b><extra></extra>\",\"legendgroup\":\"\",\"marker\":{\"color\":\"#636efa\",\"symbol\":\"circle\"},\"mode\":\"lines\",\"name\":\"\",\"showlegend\":false,\"x\":[0.3,0.9,1.0,1.7,1.8,2.1,2.2,2.4,3.2,3.6,3.6,3.7,4.0,5.0,5.3,5.4,5.5,5.7,5.8,5.9,6.0,6.0,6.4,6.4,7.2,7.4,7.4,8.1,8.3,8.4,8.5,8.5,8.7,8.7,8.7,9.0,9.2,9.3,9.3,9.3,9.4,9.5,10.2,10.7,10.9,11.0,11.6,11.9,12.4,12.6,12.8,12.9,13.1,13.1,13.8,14.2,14.2,14.8,15.6,15.9,16.0,16.6,17.0,17.6,17.9,18.2,18.3,18.3,18.4,18.5,19.1,19.3,19.4,19.5,19.6,20.3,20.5,20.6,20.7,21.2,21.4,21.4,21.6,22.0,22.3,22.3,22.9,22.9,23.1,23.2,23.2,23.4,23.5,23.5,23.7,24.2,24.3,25.6,25.6,25.6,25.9,26.2,26.4,26.6,27.2,27.3,27.4,28.9,29.7,29.7,30.0,30.0,30.7,31.3,31.5,31.6,31.6,31.7,32.0,32.5,33.0,33.8,34.4,34.5,34.6,34.6,35.1,35.2,35.6,35.7,36.8,36.9,37.0,37.7,37.7,37.9,38.6,38.7,38.7,38.9,39.6,40.8,41.4,41.8,43.0,43.1,43.2,43.3,44.3,45.1,45.1,45.2,45.7,45.9,46.0,46.2,47.4,48.7,49.3,49.6,49.8,49.9,50.4,50.5,50.6,51.2,51.4,52.7,52.9,52.9,53.4,54.7,55.8,56.5,57.6,58.4,58.5,58.7,59.0,59.0,59.7,60.0,63.2,65.6,65.7,65.9,66.2,69.2,69.3,71.8,72.3,73.4,74.2,75.0,75.6,79.2,84.8,89.4,100.9,114.0],\"xaxis\":\"x\",\"y\":[13.971045852085979,13.994040249149124,13.99787264865965,14.024699445233319,14.028531844743844,14.040029043275416,14.043861442785941,14.05152624180699,14.082185437891184,14.09751503593328,14.09751503593328,14.101347435443804,14.112844633975378,14.15116862908062,14.162665827612193,14.166498227122718,14.170330626633241,14.17799542565429,14.181827825164815,14.185660224675338,14.189492624185863,14.189492624185863,14.204822222227959,14.204822222227959,14.235481418312153,14.243146217333202,14.243146217333202,14.269973013906872,14.277637812927921,14.281470212438444,14.28530261194897,14.28530261194897,14.292967410970018,14.292967410970018,14.292967410970018,14.30446460950159,14.312129408522638,14.315961808033164,14.315961808033164,14.315961808033164,14.319794207543687,14.323626607054212,14.350453403627881,14.369615401180504,14.377280200201552,14.381112599712075,14.404106996775221,14.415604195306795,14.434766192859415,14.442430991880464,14.450095790901512,14.453928190412036,14.461592989433084,14.461592989433084,14.488419786006755,14.503749384048852,14.503749384048852,14.526743781111998,14.557402977196192,14.568900175727764,14.57273257523829,14.595726972301435,14.611056570343532,14.634050967406678,14.64554816593825,14.657045364469823,14.660877763980347,14.660877763980347,14.66471016349087,14.668542563001395,14.691536960064541,14.69920175908559,14.703034158596113,14.706866558106638,14.710698957617161,14.737525754190832,14.74519055321188,14.749022952722404,14.75285535223293,14.77201734978555,14.779682148806598,14.779682148806598,14.787346947827647,14.802676545869744,14.814173744401318,14.814173744401318,14.837168141464463,14.837168141464463,14.844832940485512,14.848665339996035,14.848665339996035,14.856330139017084,14.860162538527609,14.860162538527609,14.867827337548658,14.886989335101278,14.890821734611801,14.940642928248618,14.940642928248618,14.940642928248618,14.95214012678019,14.963637325311764,14.971302124332812,14.97896692335386,15.001961320417006,15.00579371992753,15.009626119438055,15.067112112095918,15.097771308180112,15.097771308180112,15.109268506711686,15.109268506711686,15.136095303285355,15.1590897003485,15.16675449936955,15.170586898880075,15.170586898880075,15.174419298390598,15.18591649692217,15.205078494474792,15.224240492027413,15.254899688111607,15.277894085174752,15.281726484685278,15.285558884195801,15.285558884195801,15.304720881748423,15.308553281258947,15.323882879301044,15.327715278811569,15.369871673427335,15.373704072937858,15.377536472448384,15.404363269022053,15.404363269022053,15.412028068043101,15.438854864616772,15.442687264127295,15.442687264127295,15.450352063148344,15.477178859722015,15.523167653848306,15.546162050911452,15.561491648953549,15.60748044307984,15.611312842590364,15.615145242100887,15.618977641611412,15.657301636716655,15.687960832800849,15.687960832800849,15.691793232311372,15.710955229863995,15.718620028885043,15.722452428395567,15.730117227416615,15.776106021542907,15.825927215179723,15.848921612242867,15.86041881077444,15.86808360979549,15.871916009306013,15.891078006858635,15.894910406369158,15.898742805879683,15.921737202942829,15.929402001963878,15.979223195600692,15.98688799462174,15.98688799462174,16.00604999217436,16.055871185811178,16.098027580426944,16.124854377000613,16.167010771616383,16.197669967700577,16.2015023672111,16.20916716623215,16.22066436476372,16.22066436476372,16.24749116133739,16.258988359868965,16.381625144205742,16.47360273245832,16.477435131968846,16.485099930989897,16.49659712952147,16.611569114837195,16.61540151434772,16.711211502110828,16.730373499663447,16.772529894279216,16.80318909036341,16.8338482864476,16.85684268351075,16.994809065889623,17.20942343847898,17.385713815963097,17.826439759673388,18.328484095552064],\"yaxis\":\"y\",\"type\":\"scatter\"}],                        {\"template\":{\"data\":{\"histogram2dcontour\":[{\"type\":\"histogram2dcontour\",\"colorbar\":{\"outlinewidth\":0,\"ticks\":\"\"},\"colorscale\":[[0.0,\"#0d0887\"],[0.1111111111111111,\"#46039f\"],[0.2222222222222222,\"#7201a8\"],[0.3333333333333333,\"#9c179e\"],[0.4444444444444444,\"#bd3786\"],[0.5555555555555556,\"#d8576b\"],[0.6666666666666666,\"#ed7953\"],[0.7777777777777778,\"#fb9f3a\"],[0.8888888888888888,\"#fdca26\"],[1.0,\"#f0f921\"]]}],\"choropleth\":[{\"type\":\"choropleth\",\"colorbar\":{\"outlinewidth\":0,\"ticks\":\"\"}}],\"histogram2d\":[{\"type\":\"histogram2d\",\"colorbar\":{\"outlinewidth\":0,\"ticks\":\"\"},\"colorscale\":[[0.0,\"#0d0887\"],[0.1111111111111111,\"#46039f\"],[0.2222222222222222,\"#7201a8\"],[0.3333333333333333,\"#9c179e\"],[0.4444444444444444,\"#bd3786\"],[0.5555555555555556,\"#d8576b\"],[0.6666666666666666,\"#ed7953\"],[0.7777777777777778,\"#fb9f3a\"],[0.8888888888888888,\"#fdca26\"],[1.0,\"#f0f921\"]]}],\"heatmap\":[{\"type\":\"heatmap\",\"colorbar\":{\"outlinewidth\":0,\"ticks\":\"\"},\"colorscale\":[[0.0,\"#0d0887\"],[0.1111111111111111,\"#46039f\"],[0.2222222222222222,\"#7201a8\"],[0.3333333333333333,\"#9c179e\"],[0.4444444444444444,\"#bd3786\"],[0.5555555555555556,\"#d8576b\"],[0.6666666666666666,\"#ed7953\"],[0.7777777777777778,\"#fb9f3a\"],[0.8888888888888888,\"#fdca26\"],[1.0,\"#f0f921\"]]}],\"heatmapgl\":[{\"type\":\"heatmapgl\",\"colorbar\":{\"outlinewidth\":0,\"ticks\":\"\"},\"colorscale\":[[0.0,\"#0d0887\"],[0.1111111111111111,\"#46039f\"],[0.2222222222222222,\"#7201a8\"],[0.3333333333333333,\"#9c179e\"],[0.4444444444444444,\"#bd3786\"],[0.5555555555555556,\"#d8576b\"],[0.6666666666666666,\"#ed7953\"],[0.7777777777777778,\"#fb9f3a\"],[0.8888888888888888,\"#fdca26\"],[1.0,\"#f0f921\"]]}],\"contourcarpet\":[{\"type\":\"contourcarpet\",\"colorbar\":{\"outlinewidth\":0,\"ticks\":\"\"}}],\"contour\":[{\"type\":\"contour\",\"colorbar\":{\"outlinewidth\":0,\"ticks\":\"\"},\"colorscale\":[[0.0,\"#0d0887\"],[0.1111111111111111,\"#46039f\"],[0.2222222222222222,\"#7201a8\"],[0.3333333333333333,\"#9c179e\"],[0.4444444444444444,\"#bd3786\"],[0.5555555555555556,\"#d8576b\"],[0.6666666666666666,\"#ed7953\"],[0.7777777777777778,\"#fb9f3a\"],[0.8888888888888888,\"#fdca26\"],[1.0,\"#f0f921\"]]}],\"surface\":[{\"type\":\"surface\",\"colorbar\":{\"outlinewidth\":0,\"ticks\":\"\"},\"colorscale\":[[0.0,\"#0d0887\"],[0.1111111111111111,\"#46039f\"],[0.2222222222222222,\"#7201a8\"],[0.3333333333333333,\"#9c179e\"],[0.4444444444444444,\"#bd3786\"],[0.5555555555555556,\"#d8576b\"],[0.6666666666666666,\"#ed7953\"],[0.7777777777777778,\"#fb9f3a\"],[0.8888888888888888,\"#fdca26\"],[1.0,\"#f0f921\"]]}],\"mesh3d\":[{\"type\":\"mesh3d\",\"colorbar\":{\"outlinewidth\":0,\"ticks\":\"\"}}],\"scatter\":[{\"fillpattern\":{\"fillmode\":\"overlay\",\"size\":10,\"solidity\":0.2},\"type\":\"scatter\"}],\"parcoords\":[{\"type\":\"parcoords\",\"line\":{\"colorbar\":{\"outlinewidth\":0,\"ticks\":\"\"}}}],\"scatterpolargl\":[{\"type\":\"scatterpolargl\",\"marker\":{\"colorbar\":{\"outlinewidth\":0,\"ticks\":\"\"}}}],\"bar\":[{\"error_x\":{\"color\":\"#2a3f5f\"},\"error_y\":{\"color\":\"#2a3f5f\"},\"marker\":{\"line\":{\"color\":\"#E5ECF6\",\"width\":0.5},\"pattern\":{\"fillmode\":\"overlay\",\"size\":10,\"solidity\":0.2}},\"type\":\"bar\"}],\"scattergeo\":[{\"type\":\"scattergeo\",\"marker\":{\"colorbar\":{\"outlinewidth\":0,\"ticks\":\"\"}}}],\"scatterpolar\":[{\"type\":\"scatterpolar\",\"marker\":{\"colorbar\":{\"outlinewidth\":0,\"ticks\":\"\"}}}],\"histogram\":[{\"marker\":{\"pattern\":{\"fillmode\":\"overlay\",\"size\":10,\"solidity\":0.2}},\"type\":\"histogram\"}],\"scattergl\":[{\"type\":\"scattergl\",\"marker\":{\"colorbar\":{\"outlinewidth\":0,\"ticks\":\"\"}}}],\"scatter3d\":[{\"type\":\"scatter3d\",\"line\":{\"colorbar\":{\"outlinewidth\":0,\"ticks\":\"\"}},\"marker\":{\"colorbar\":{\"outlinewidth\":0,\"ticks\":\"\"}}}],\"scattermapbox\":[{\"type\":\"scattermapbox\",\"marker\":{\"colorbar\":{\"outlinewidth\":0,\"ticks\":\"\"}}}],\"scatterternary\":[{\"type\":\"scatterternary\",\"marker\":{\"colorbar\":{\"outlinewidth\":0,\"ticks\":\"\"}}}],\"scattercarpet\":[{\"type\":\"scattercarpet\",\"marker\":{\"colorbar\":{\"outlinewidth\":0,\"ticks\":\"\"}}}],\"carpet\":[{\"aaxis\":{\"endlinecolor\":\"#2a3f5f\",\"gridcolor\":\"white\",\"linecolor\":\"white\",\"minorgridcolor\":\"white\",\"startlinecolor\":\"#2a3f5f\"},\"baxis\":{\"endlinecolor\":\"#2a3f5f\",\"gridcolor\":\"white\",\"linecolor\":\"white\",\"minorgridcolor\":\"white\",\"startlinecolor\":\"#2a3f5f\"},\"type\":\"carpet\"}],\"table\":[{\"cells\":{\"fill\":{\"color\":\"#EBF0F8\"},\"line\":{\"color\":\"white\"}},\"header\":{\"fill\":{\"color\":\"#C8D4E3\"},\"line\":{\"color\":\"white\"}},\"type\":\"table\"}],\"barpolar\":[{\"marker\":{\"line\":{\"color\":\"#E5ECF6\",\"width\":0.5},\"pattern\":{\"fillmode\":\"overlay\",\"size\":10,\"solidity\":0.2}},\"type\":\"barpolar\"}],\"pie\":[{\"automargin\":true,\"type\":\"pie\"}]},\"layout\":{\"autotypenumbers\":\"strict\",\"colorway\":[\"#636efa\",\"#EF553B\",\"#00cc96\",\"#ab63fa\",\"#FFA15A\",\"#19d3f3\",\"#FF6692\",\"#B6E880\",\"#FF97FF\",\"#FECB52\"],\"font\":{\"color\":\"#2a3f5f\"},\"hovermode\":\"closest\",\"hoverlabel\":{\"align\":\"left\"},\"paper_bgcolor\":\"white\",\"plot_bgcolor\":\"#E5ECF6\",\"polar\":{\"bgcolor\":\"#E5ECF6\",\"angularaxis\":{\"gridcolor\":\"white\",\"linecolor\":\"white\",\"ticks\":\"\"},\"radialaxis\":{\"gridcolor\":\"white\",\"linecolor\":\"white\",\"ticks\":\"\"}},\"ternary\":{\"bgcolor\":\"#E5ECF6\",\"aaxis\":{\"gridcolor\":\"white\",\"linecolor\":\"white\",\"ticks\":\"\"},\"baxis\":{\"gridcolor\":\"white\",\"linecolor\":\"white\",\"ticks\":\"\"},\"caxis\":{\"gridcolor\":\"white\",\"linecolor\":\"white\",\"ticks\":\"\"}},\"coloraxis\":{\"colorbar\":{\"outlinewidth\":0,\"ticks\":\"\"}},\"colorscale\":{\"sequential\":[[0.0,\"#0d0887\"],[0.1111111111111111,\"#46039f\"],[0.2222222222222222,\"#7201a8\"],[0.3333333333333333,\"#9c179e\"],[0.4444444444444444,\"#bd3786\"],[0.5555555555555556,\"#d8576b\"],[0.6666666666666666,\"#ed7953\"],[0.7777777777777778,\"#fb9f3a\"],[0.8888888888888888,\"#fdca26\"],[1.0,\"#f0f921\"]],\"sequentialminus\":[[0.0,\"#0d0887\"],[0.1111111111111111,\"#46039f\"],[0.2222222222222222,\"#7201a8\"],[0.3333333333333333,\"#9c179e\"],[0.4444444444444444,\"#bd3786\"],[0.5555555555555556,\"#d8576b\"],[0.6666666666666666,\"#ed7953\"],[0.7777777777777778,\"#fb9f3a\"],[0.8888888888888888,\"#fdca26\"],[1.0,\"#f0f921\"]],\"diverging\":[[0,\"#8e0152\"],[0.1,\"#c51b7d\"],[0.2,\"#de77ae\"],[0.3,\"#f1b6da\"],[0.4,\"#fde0ef\"],[0.5,\"#f7f7f7\"],[0.6,\"#e6f5d0\"],[0.7,\"#b8e186\"],[0.8,\"#7fbc41\"],[0.9,\"#4d9221\"],[1,\"#276419\"]]},\"xaxis\":{\"gridcolor\":\"white\",\"linecolor\":\"white\",\"ticks\":\"\",\"title\":{\"standoff\":15},\"zerolinecolor\":\"white\",\"automargin\":true,\"zerolinewidth\":2},\"yaxis\":{\"gridcolor\":\"white\",\"linecolor\":\"white\",\"ticks\":\"\",\"title\":{\"standoff\":15},\"zerolinecolor\":\"white\",\"automargin\":true,\"zerolinewidth\":2},\"scene\":{\"xaxis\":{\"backgroundcolor\":\"#E5ECF6\",\"gridcolor\":\"white\",\"linecolor\":\"white\",\"showbackground\":true,\"ticks\":\"\",\"zerolinecolor\":\"white\",\"gridwidth\":2},\"yaxis\":{\"backgroundcolor\":\"#E5ECF6\",\"gridcolor\":\"white\",\"linecolor\":\"white\",\"showbackground\":true,\"ticks\":\"\",\"zerolinecolor\":\"white\",\"gridwidth\":2},\"zaxis\":{\"backgroundcolor\":\"#E5ECF6\",\"gridcolor\":\"white\",\"linecolor\":\"white\",\"showbackground\":true,\"ticks\":\"\",\"zerolinecolor\":\"white\",\"gridwidth\":2}},\"shapedefaults\":{\"line\":{\"color\":\"#2a3f5f\"}},\"annotationdefaults\":{\"arrowcolor\":\"#2a3f5f\",\"arrowhead\":0,\"arrowwidth\":1},\"geo\":{\"bgcolor\":\"white\",\"landcolor\":\"#E5ECF6\",\"subunitcolor\":\"white\",\"showland\":true,\"showlakes\":true,\"lakecolor\":\"white\"},\"title\":{\"x\":0.05},\"mapbox\":{\"style\":\"light\"}}},\"xaxis\":{\"anchor\":\"y\",\"domain\":[0.0,1.0],\"title\":{\"text\":\"Newspaper\"}},\"yaxis\":{\"anchor\":\"x\",\"domain\":[0.0,1.0],\"title\":{\"text\":\"Sales\"}},\"legend\":{\"tracegroupgap\":0,\"itemsizing\":\"constant\"},\"title\":{\"text\":\"Sales with Newspaper Advertisement\"}},                        {\"responsive\": true}                    ).then(function(){\n",
       "                            \n",
       "var gd = document.getElementById('1c99a672-9661-4de1-828a-1fe79467bd21');\n",
       "var x = new MutationObserver(function (mutations, observer) {{\n",
       "        var display = window.getComputedStyle(gd).display;\n",
       "        if (!display || display === 'none') {{\n",
       "            console.log([gd, 'removed!']);\n",
       "            Plotly.purge(gd);\n",
       "            observer.disconnect();\n",
       "        }}\n",
       "}});\n",
       "\n",
       "// Listen for the removal of the full notebook cells\n",
       "var notebookContainer = gd.closest('#notebook-container');\n",
       "if (notebookContainer) {{\n",
       "    x.observe(notebookContainer, {childList: true});\n",
       "}}\n",
       "\n",
       "// Listen for the clearing of the current output cell\n",
       "var outputEl = gd.closest('.output');\n",
       "if (outputEl) {{\n",
       "    x.observe(outputEl, {childList: true});\n",
       "}}\n",
       "\n",
       "                        })                };                });            </script>        </div>"
      ]
     },
     "metadata": {},
     "output_type": "display_data"
    }
   ],
   "source": [
    "figure = px.scatter(data_frame = data, x= \"Newspaper\", y= \"Sales\", size=\"Newspaper\", trendline =\"ols\", title =\"Sales with Newspaper Advertisement\")\n",
    "figure.show()"
   ]
  },
  {
   "cell_type": "code",
   "execution_count": 25,
   "id": "effcf45e",
   "metadata": {},
   "outputs": [
    {
     "data": {
      "application/vnd.plotly.v1+json": {
       "config": {
        "plotlyServerURL": "https://plot.ly"
       },
       "data": [
        {
         "hovertemplate": "Radio=%{marker.size}<br>Sales=%{y}<extra></extra>",
         "legendgroup": "",
         "marker": {
          "color": "#636efa",
          "size": [
           37.8,
           39.3,
           45.9,
           41.3,
           10.8,
           48.9,
           32.8,
           19.6,
           2.1,
           2.6,
           5.8,
           24,
           35.1,
           7.6,
           32.9,
           47.7,
           36.6,
           39.6,
           20.5,
           23.9,
           27.7,
           5.1,
           15.9,
           16.9,
           12.6,
           3.5,
           29.3,
           16.7,
           27.1,
           16,
           28.3,
           17.4,
           1.5,
           20,
           1.4,
           4.1,
           43.8,
           49.4,
           26.7,
           37.7,
           22.3,
           33.4,
           27.7,
           8.4,
           25.7,
           22.5,
           9.9,
           41.5,
           15.8,
           11.7,
           3.1,
           9.6,
           41.7,
           46.2,
           28.8,
           49.4,
           28.1,
           19.2,
           49.6,
           29.5,
           2,
           42.7,
           15.5,
           29.6,
           42.8,
           9.3,
           24.6,
           14.5,
           27.5,
           43.9,
           30.6,
           14.3,
           33,
           5.7,
           24.6,
           43.7,
           1.6,
           28.5,
           29.9,
           7.7,
           26.7,
           4.1,
           20.3,
           44.5,
           43,
           18.4,
           27.5,
           40.6,
           25.5,
           47.8,
           4.9,
           1.5,
           33.5,
           36.5,
           14,
           31.6,
           3.5,
           21,
           42.3,
           41.7,
           4.3,
           36.3,
           10.1,
           17.2,
           34.3,
           46.4,
           11,
           0.3,
           0.4,
           26.9,
           8.2,
           38,
           15.4,
           20.6,
           46.8,
           35,
           14.3,
           0.8,
           36.9,
           16,
           26.8,
           21.7,
           2.4,
           34.6,
           32.3,
           11.8,
           38.9,
           0,
           49,
           12,
           39.6,
           2.9,
           27.2,
           33.5,
           38.6,
           47,
           39,
           28.9,
           25.9,
           43.9,
           17,
           35.4,
           33.2,
           5.7,
           14.8,
           1.9,
           7.3,
           49,
           40.3,
           25.8,
           13.9,
           8.4,
           23.3,
           39.7,
           21.1,
           11.6,
           43.5,
           1.3,
           36.9,
           18.4,
           18.1,
           35.8,
           18.1,
           36.8,
           14.7,
           3.4,
           37.6,
           5.2,
           23.6,
           10.6,
           11.6,
           20.9,
           20.1,
           7.1,
           3.4,
           48.9,
           30.2,
           7.8,
           2.3,
           10,
           2.6,
           5.4,
           5.7,
           43,
           21.3,
           45.1,
           2.1,
           28.7,
           13.9,
           12.1,
           41.1,
           10.8,
           4.1,
           42,
           35.6,
           3.7,
           4.9,
           9.3,
           42,
           8.6
          ],
          "sizemode": "area",
          "sizeref": 0.124,
          "symbol": "circle"
         },
         "mode": "markers",
         "name": "",
         "orientation": "v",
         "showlegend": false,
         "type": "scatter",
         "x": [
          37.8,
          39.3,
          45.9,
          41.3,
          10.8,
          48.9,
          32.8,
          19.6,
          2.1,
          2.6,
          5.8,
          24,
          35.1,
          7.6,
          32.9,
          47.7,
          36.6,
          39.6,
          20.5,
          23.9,
          27.7,
          5.1,
          15.9,
          16.9,
          12.6,
          3.5,
          29.3,
          16.7,
          27.1,
          16,
          28.3,
          17.4,
          1.5,
          20,
          1.4,
          4.1,
          43.8,
          49.4,
          26.7,
          37.7,
          22.3,
          33.4,
          27.7,
          8.4,
          25.7,
          22.5,
          9.9,
          41.5,
          15.8,
          11.7,
          3.1,
          9.6,
          41.7,
          46.2,
          28.8,
          49.4,
          28.1,
          19.2,
          49.6,
          29.5,
          2,
          42.7,
          15.5,
          29.6,
          42.8,
          9.3,
          24.6,
          14.5,
          27.5,
          43.9,
          30.6,
          14.3,
          33,
          5.7,
          24.6,
          43.7,
          1.6,
          28.5,
          29.9,
          7.7,
          26.7,
          4.1,
          20.3,
          44.5,
          43,
          18.4,
          27.5,
          40.6,
          25.5,
          47.8,
          4.9,
          1.5,
          33.5,
          36.5,
          14,
          31.6,
          3.5,
          21,
          42.3,
          41.7,
          4.3,
          36.3,
          10.1,
          17.2,
          34.3,
          46.4,
          11,
          0.3,
          0.4,
          26.9,
          8.2,
          38,
          15.4,
          20.6,
          46.8,
          35,
          14.3,
          0.8,
          36.9,
          16,
          26.8,
          21.7,
          2.4,
          34.6,
          32.3,
          11.8,
          38.9,
          0,
          49,
          12,
          39.6,
          2.9,
          27.2,
          33.5,
          38.6,
          47,
          39,
          28.9,
          25.9,
          43.9,
          17,
          35.4,
          33.2,
          5.7,
          14.8,
          1.9,
          7.3,
          49,
          40.3,
          25.8,
          13.9,
          8.4,
          23.3,
          39.7,
          21.1,
          11.6,
          43.5,
          1.3,
          36.9,
          18.4,
          18.1,
          35.8,
          18.1,
          36.8,
          14.7,
          3.4,
          37.6,
          5.2,
          23.6,
          10.6,
          11.6,
          20.9,
          20.1,
          7.1,
          3.4,
          48.9,
          30.2,
          7.8,
          2.3,
          10,
          2.6,
          5.4,
          5.7,
          43,
          21.3,
          45.1,
          2.1,
          28.7,
          13.9,
          12.1,
          41.1,
          10.8,
          4.1,
          42,
          35.6,
          3.7,
          4.9,
          9.3,
          42,
          8.6
         ],
         "xaxis": "x",
         "y": [
          22.1,
          10.4,
          12,
          16.5,
          17.9,
          7.2,
          11.8,
          13.2,
          4.8,
          15.6,
          12.6,
          17.4,
          9.2,
          13.7,
          19,
          22.4,
          12.5,
          24.4,
          11.3,
          14.6,
          18,
          17.5,
          5.6,
          20.5,
          9.7,
          17,
          15,
          20.9,
          18.9,
          10.5,
          21.4,
          11.9,
          13.2,
          17.4,
          11.9,
          17.8,
          25.4,
          14.7,
          10.1,
          21.5,
          16.6,
          17.1,
          20.7,
          17.9,
          8.5,
          16.1,
          10.6,
          23.2,
          19.8,
          9.7,
          16.4,
          10.7,
          22.6,
          21.2,
          20.2,
          23.7,
          5.5,
          13.2,
          23.8,
          18.4,
          8.1,
          24.2,
          20.7,
          14,
          16,
          11.3,
          11,
          13.4,
          18.9,
          22.3,
          18.3,
          12.4,
          8.8,
          11,
          17,
          8.7,
          6.9,
          14.2,
          5.3,
          11,
          11.8,
          17.3,
          11.3,
          13.6,
          21.7,
          20.2,
          12,
          16,
          12.9,
          16.7,
          14,
          7.3,
          19.4,
          22.2,
          11.5,
          16.9,
          16.7,
          20.5,
          25.4,
          17.2,
          16.7,
          23.8,
          19.8,
          19.7,
          20.7,
          15,
          7.2,
          12,
          5.3,
          19.8,
          18.4,
          21.8,
          17.1,
          20.9,
          14.6,
          12.6,
          12.2,
          9.4,
          15.9,
          6.6,
          15.5,
          7,
          16.6,
          15.2,
          19.7,
          10.6,
          6.6,
          11.9,
          24.7,
          9.7,
          1.6,
          17.7,
          5.7,
          19.6,
          10.8,
          11.6,
          9.5,
          20.8,
          9.6,
          20.7,
          10.9,
          19.2,
          20.1,
          10.4,
          12.3,
          10.3,
          18.2,
          25.4,
          10.9,
          10.1,
          16.1,
          11.6,
          16.6,
          16,
          20.6,
          3.2,
          15.3,
          10.1,
          7.3,
          12.9,
          16.4,
          13.3,
          19.9,
          18,
          11.9,
          16.9,
          8,
          17.2,
          17.1,
          20,
          8.4,
          17.5,
          7.6,
          16.7,
          16.5,
          27,
          20.2,
          16.7,
          16.8,
          17.6,
          15.5,
          17.2,
          8.7,
          26.2,
          17.6,
          22.6,
          10.3,
          17.3,
          20.9,
          6.7,
          10.8,
          11.9,
          5.9,
          19.6,
          17.3,
          7.6,
          14,
          14.8,
          25.5,
          18.4
         ],
         "yaxis": "y"
        },
        {
         "hovertemplate": "<b>OLS trendline</b><br>Sales = 0.124432 * Radio + 12.2357<br>R<sup>2</sup>=0.122242<br><br>Radio=%{x}<br>Sales=%{y} <b>(trend)</b><extra></extra>",
         "legendgroup": "",
         "marker": {
          "color": "#636efa",
          "symbol": "circle"
         },
         "mode": "lines",
         "name": "",
         "showlegend": false,
         "type": "scatter",
         "x": [
          0,
          0.3,
          0.4,
          0.8,
          1.3,
          1.4,
          1.5,
          1.5,
          1.6,
          1.9,
          2,
          2.1,
          2.1,
          2.3,
          2.4,
          2.6,
          2.6,
          2.9,
          3.1,
          3.4,
          3.4,
          3.5,
          3.5,
          3.7,
          4.1,
          4.1,
          4.1,
          4.3,
          4.9,
          4.9,
          5.1,
          5.2,
          5.4,
          5.7,
          5.7,
          5.7,
          5.8,
          7.1,
          7.3,
          7.6,
          7.7,
          7.8,
          8.2,
          8.4,
          8.4,
          8.6,
          9.3,
          9.3,
          9.6,
          9.9,
          10,
          10.1,
          10.6,
          10.8,
          10.8,
          11,
          11.6,
          11.6,
          11.7,
          11.8,
          12,
          12.1,
          12.6,
          13.9,
          13.9,
          14,
          14.3,
          14.3,
          14.5,
          14.7,
          14.8,
          15.4,
          15.5,
          15.8,
          15.9,
          16,
          16,
          16.7,
          16.9,
          17,
          17.2,
          17.4,
          18.1,
          18.1,
          18.4,
          18.4,
          19.2,
          19.6,
          20,
          20.1,
          20.3,
          20.5,
          20.6,
          20.9,
          21,
          21.1,
          21.3,
          21.7,
          22.3,
          22.5,
          23.3,
          23.6,
          23.9,
          24,
          24.6,
          24.6,
          25.5,
          25.7,
          25.8,
          25.9,
          26.7,
          26.7,
          26.8,
          26.9,
          27.1,
          27.2,
          27.5,
          27.5,
          27.7,
          27.7,
          28.1,
          28.3,
          28.5,
          28.7,
          28.8,
          28.9,
          29.3,
          29.5,
          29.6,
          29.9,
          30.2,
          30.6,
          31.6,
          32.3,
          32.8,
          32.9,
          33,
          33.2,
          33.4,
          33.5,
          33.5,
          34.3,
          34.6,
          35,
          35.1,
          35.4,
          35.6,
          35.8,
          36.3,
          36.5,
          36.6,
          36.8,
          36.9,
          36.9,
          37.6,
          37.7,
          37.8,
          38,
          38.6,
          38.9,
          39,
          39.3,
          39.6,
          39.6,
          39.7,
          40.3,
          40.6,
          41.1,
          41.3,
          41.5,
          41.7,
          41.7,
          42,
          42,
          42.3,
          42.7,
          42.8,
          43,
          43,
          43.5,
          43.7,
          43.8,
          43.9,
          43.9,
          44.5,
          45.1,
          45.9,
          46.2,
          46.4,
          46.8,
          47,
          47.7,
          47.8,
          48.9,
          48.9,
          49,
          49,
          49.4,
          49.4,
          49.6
         ],
         "xaxis": "x",
         "y": [
          12.23572196636924,
          12.273051463020256,
          12.285494628570595,
          12.335267290771949,
          12.397483118523642,
          12.40992628407398,
          12.42236944962432,
          12.42236944962432,
          12.434812615174659,
          12.472142111825674,
          12.484585277376013,
          12.49702844292635,
          12.49702844292635,
          12.521914774027028,
          12.534357939577367,
          12.559244270678043,
          12.559244270678043,
          12.59657376732906,
          12.621460098429736,
          12.658789595080753,
          12.658789595080753,
          12.67123276063109,
          12.67123276063109,
          12.696119091731768,
          12.745891753933122,
          12.745891753933122,
          12.745891753933122,
          12.7707780850338,
          12.84543707833583,
          12.84543707833583,
          12.870323409436509,
          12.882766574986848,
          12.907652906087524,
          12.94498240273854,
          12.94498240273854,
          12.94498240273854,
          12.95742556828888,
          13.119186720443281,
          13.144073051543957,
          13.181402548194974,
          13.193845713745311,
          13.20628887929565,
          13.256061541497004,
          13.280947872597682,
          13.280947872597682,
          13.305834203698359,
          13.39293636255073,
          13.39293636255073,
          13.430265859201745,
          13.467595355852762,
          13.480038521403099,
          13.492481686953438,
          13.554697514705131,
          13.579583845805809,
          13.579583845805809,
          13.604470176906485,
          13.679129170208517,
          13.679129170208517,
          13.691572335758856,
          13.704015501309195,
          13.728901832409871,
          13.74134499796021,
          13.803560825711903,
          13.965321977866305,
          13.965321977866305,
          13.977765143416644,
          14.015094640067659,
          14.015094640067659,
          14.039980971168337,
          14.064867302269013,
          14.077310467819352,
          14.151969461121384,
          14.164412626671723,
          14.201742123322738,
          14.214185288873077,
          14.226628454423416,
          14.226628454423416,
          14.313730613275785,
          14.338616944376462,
          14.3510601099268,
          14.375946441027478,
          14.400832772128155,
          14.487934930980526,
          14.487934930980526,
          14.52526442763154,
          14.52526442763154,
          14.624809752034249,
          14.674582414235605,
          14.724355076436959,
          14.736798241987298,
          14.761684573087974,
          14.786570904188652,
          14.799014069738991,
          14.836343566390006,
          14.848786731940345,
          14.861229897490684,
          14.88611622859136,
          14.935888890792715,
          15.010547884094747,
          15.035434215195423,
          15.134979539598133,
          15.172309036249148,
          15.209638532900163,
          15.222081698450502,
          15.296740691752534,
          15.296740691752534,
          15.408729181705581,
          15.43361551280626,
          15.446058678356597,
          15.458501843906935,
          15.558047168309646,
          15.558047168309646,
          15.570490333859983,
          15.582933499410322,
          15.607819830511,
          15.620262996061337,
          15.657592492712354,
          15.657592492712354,
          15.68247882381303,
          15.68247882381303,
          15.732251486014384,
          15.757137817115062,
          15.78202414821574,
          15.806910479316416,
          15.819353644866755,
          15.831796810417092,
          15.881569472618448,
          15.906455803719126,
          15.918898969269463,
          15.956228465920478,
          15.993557962571495,
          16.04333062477285,
          16.167762280276236,
          16.254864439128603,
          16.317080266880296,
          16.329523432430637,
          16.341966597980978,
          16.366852929081652,
          16.39173926018233,
          16.40418242573267,
          16.40418242573267,
          16.503727750135376,
          16.541057246786394,
          16.590829908987747,
          16.603273074538087,
          16.640602571189103,
          16.66548890228978,
          16.690375233390455,
          16.752591061142148,
          16.777477392242826,
          16.789920557793167,
          16.81480688889384,
          16.827250054444182,
          16.827250054444182,
          16.914352213296553,
          16.92679537884689,
          16.939238544397227,
          16.964124875497905,
          17.03878386879994,
          17.07611336545095,
          17.08855653100129,
          17.125886027652307,
          17.16321552430332,
          17.16321552430332,
          17.175658689853663,
          17.250317683155693,
          17.287647179806708,
          17.3498630075584,
          17.37474933865908,
          17.399635669759757,
          17.424522000860435,
          17.424522000860435,
          17.46185149751145,
          17.46185149751145,
          17.499180994162465,
          17.54895365636382,
          17.56139682191416,
          17.586283153014836,
          17.586283153014836,
          17.648498980766526,
          17.673385311867207,
          17.685828477417544,
          17.69827164296788,
          17.69827164296788,
          17.772930636269912,
          17.847589629571946,
          17.947134953974654,
          17.98446445062567,
          18.009350781726347,
          18.059123443927703,
          18.084009775028377,
          18.17111193388075,
          18.183555099431086,
          18.320429920484813,
          18.320429920484813,
          18.33287308603515,
          18.33287308603515,
          18.382645748236506,
          18.382645748236506,
          18.40753207933718
         ],
         "yaxis": "y"
        }
       ],
       "layout": {
        "legend": {
         "itemsizing": "constant",
         "tracegroupgap": 0
        },
        "template": {
         "data": {
          "bar": [
           {
            "error_x": {
             "color": "#2a3f5f"
            },
            "error_y": {
             "color": "#2a3f5f"
            },
            "marker": {
             "line": {
              "color": "#E5ECF6",
              "width": 0.5
             },
             "pattern": {
              "fillmode": "overlay",
              "size": 10,
              "solidity": 0.2
             }
            },
            "type": "bar"
           }
          ],
          "barpolar": [
           {
            "marker": {
             "line": {
              "color": "#E5ECF6",
              "width": 0.5
             },
             "pattern": {
              "fillmode": "overlay",
              "size": 10,
              "solidity": 0.2
             }
            },
            "type": "barpolar"
           }
          ],
          "carpet": [
           {
            "aaxis": {
             "endlinecolor": "#2a3f5f",
             "gridcolor": "white",
             "linecolor": "white",
             "minorgridcolor": "white",
             "startlinecolor": "#2a3f5f"
            },
            "baxis": {
             "endlinecolor": "#2a3f5f",
             "gridcolor": "white",
             "linecolor": "white",
             "minorgridcolor": "white",
             "startlinecolor": "#2a3f5f"
            },
            "type": "carpet"
           }
          ],
          "choropleth": [
           {
            "colorbar": {
             "outlinewidth": 0,
             "ticks": ""
            },
            "type": "choropleth"
           }
          ],
          "contour": [
           {
            "colorbar": {
             "outlinewidth": 0,
             "ticks": ""
            },
            "colorscale": [
             [
              0,
              "#0d0887"
             ],
             [
              0.1111111111111111,
              "#46039f"
             ],
             [
              0.2222222222222222,
              "#7201a8"
             ],
             [
              0.3333333333333333,
              "#9c179e"
             ],
             [
              0.4444444444444444,
              "#bd3786"
             ],
             [
              0.5555555555555556,
              "#d8576b"
             ],
             [
              0.6666666666666666,
              "#ed7953"
             ],
             [
              0.7777777777777778,
              "#fb9f3a"
             ],
             [
              0.8888888888888888,
              "#fdca26"
             ],
             [
              1,
              "#f0f921"
             ]
            ],
            "type": "contour"
           }
          ],
          "contourcarpet": [
           {
            "colorbar": {
             "outlinewidth": 0,
             "ticks": ""
            },
            "type": "contourcarpet"
           }
          ],
          "heatmap": [
           {
            "colorbar": {
             "outlinewidth": 0,
             "ticks": ""
            },
            "colorscale": [
             [
              0,
              "#0d0887"
             ],
             [
              0.1111111111111111,
              "#46039f"
             ],
             [
              0.2222222222222222,
              "#7201a8"
             ],
             [
              0.3333333333333333,
              "#9c179e"
             ],
             [
              0.4444444444444444,
              "#bd3786"
             ],
             [
              0.5555555555555556,
              "#d8576b"
             ],
             [
              0.6666666666666666,
              "#ed7953"
             ],
             [
              0.7777777777777778,
              "#fb9f3a"
             ],
             [
              0.8888888888888888,
              "#fdca26"
             ],
             [
              1,
              "#f0f921"
             ]
            ],
            "type": "heatmap"
           }
          ],
          "heatmapgl": [
           {
            "colorbar": {
             "outlinewidth": 0,
             "ticks": ""
            },
            "colorscale": [
             [
              0,
              "#0d0887"
             ],
             [
              0.1111111111111111,
              "#46039f"
             ],
             [
              0.2222222222222222,
              "#7201a8"
             ],
             [
              0.3333333333333333,
              "#9c179e"
             ],
             [
              0.4444444444444444,
              "#bd3786"
             ],
             [
              0.5555555555555556,
              "#d8576b"
             ],
             [
              0.6666666666666666,
              "#ed7953"
             ],
             [
              0.7777777777777778,
              "#fb9f3a"
             ],
             [
              0.8888888888888888,
              "#fdca26"
             ],
             [
              1,
              "#f0f921"
             ]
            ],
            "type": "heatmapgl"
           }
          ],
          "histogram": [
           {
            "marker": {
             "pattern": {
              "fillmode": "overlay",
              "size": 10,
              "solidity": 0.2
             }
            },
            "type": "histogram"
           }
          ],
          "histogram2d": [
           {
            "colorbar": {
             "outlinewidth": 0,
             "ticks": ""
            },
            "colorscale": [
             [
              0,
              "#0d0887"
             ],
             [
              0.1111111111111111,
              "#46039f"
             ],
             [
              0.2222222222222222,
              "#7201a8"
             ],
             [
              0.3333333333333333,
              "#9c179e"
             ],
             [
              0.4444444444444444,
              "#bd3786"
             ],
             [
              0.5555555555555556,
              "#d8576b"
             ],
             [
              0.6666666666666666,
              "#ed7953"
             ],
             [
              0.7777777777777778,
              "#fb9f3a"
             ],
             [
              0.8888888888888888,
              "#fdca26"
             ],
             [
              1,
              "#f0f921"
             ]
            ],
            "type": "histogram2d"
           }
          ],
          "histogram2dcontour": [
           {
            "colorbar": {
             "outlinewidth": 0,
             "ticks": ""
            },
            "colorscale": [
             [
              0,
              "#0d0887"
             ],
             [
              0.1111111111111111,
              "#46039f"
             ],
             [
              0.2222222222222222,
              "#7201a8"
             ],
             [
              0.3333333333333333,
              "#9c179e"
             ],
             [
              0.4444444444444444,
              "#bd3786"
             ],
             [
              0.5555555555555556,
              "#d8576b"
             ],
             [
              0.6666666666666666,
              "#ed7953"
             ],
             [
              0.7777777777777778,
              "#fb9f3a"
             ],
             [
              0.8888888888888888,
              "#fdca26"
             ],
             [
              1,
              "#f0f921"
             ]
            ],
            "type": "histogram2dcontour"
           }
          ],
          "mesh3d": [
           {
            "colorbar": {
             "outlinewidth": 0,
             "ticks": ""
            },
            "type": "mesh3d"
           }
          ],
          "parcoords": [
           {
            "line": {
             "colorbar": {
              "outlinewidth": 0,
              "ticks": ""
             }
            },
            "type": "parcoords"
           }
          ],
          "pie": [
           {
            "automargin": true,
            "type": "pie"
           }
          ],
          "scatter": [
           {
            "fillpattern": {
             "fillmode": "overlay",
             "size": 10,
             "solidity": 0.2
            },
            "type": "scatter"
           }
          ],
          "scatter3d": [
           {
            "line": {
             "colorbar": {
              "outlinewidth": 0,
              "ticks": ""
             }
            },
            "marker": {
             "colorbar": {
              "outlinewidth": 0,
              "ticks": ""
             }
            },
            "type": "scatter3d"
           }
          ],
          "scattercarpet": [
           {
            "marker": {
             "colorbar": {
              "outlinewidth": 0,
              "ticks": ""
             }
            },
            "type": "scattercarpet"
           }
          ],
          "scattergeo": [
           {
            "marker": {
             "colorbar": {
              "outlinewidth": 0,
              "ticks": ""
             }
            },
            "type": "scattergeo"
           }
          ],
          "scattergl": [
           {
            "marker": {
             "colorbar": {
              "outlinewidth": 0,
              "ticks": ""
             }
            },
            "type": "scattergl"
           }
          ],
          "scattermapbox": [
           {
            "marker": {
             "colorbar": {
              "outlinewidth": 0,
              "ticks": ""
             }
            },
            "type": "scattermapbox"
           }
          ],
          "scatterpolar": [
           {
            "marker": {
             "colorbar": {
              "outlinewidth": 0,
              "ticks": ""
             }
            },
            "type": "scatterpolar"
           }
          ],
          "scatterpolargl": [
           {
            "marker": {
             "colorbar": {
              "outlinewidth": 0,
              "ticks": ""
             }
            },
            "type": "scatterpolargl"
           }
          ],
          "scatterternary": [
           {
            "marker": {
             "colorbar": {
              "outlinewidth": 0,
              "ticks": ""
             }
            },
            "type": "scatterternary"
           }
          ],
          "surface": [
           {
            "colorbar": {
             "outlinewidth": 0,
             "ticks": ""
            },
            "colorscale": [
             [
              0,
              "#0d0887"
             ],
             [
              0.1111111111111111,
              "#46039f"
             ],
             [
              0.2222222222222222,
              "#7201a8"
             ],
             [
              0.3333333333333333,
              "#9c179e"
             ],
             [
              0.4444444444444444,
              "#bd3786"
             ],
             [
              0.5555555555555556,
              "#d8576b"
             ],
             [
              0.6666666666666666,
              "#ed7953"
             ],
             [
              0.7777777777777778,
              "#fb9f3a"
             ],
             [
              0.8888888888888888,
              "#fdca26"
             ],
             [
              1,
              "#f0f921"
             ]
            ],
            "type": "surface"
           }
          ],
          "table": [
           {
            "cells": {
             "fill": {
              "color": "#EBF0F8"
             },
             "line": {
              "color": "white"
             }
            },
            "header": {
             "fill": {
              "color": "#C8D4E3"
             },
             "line": {
              "color": "white"
             }
            },
            "type": "table"
           }
          ]
         },
         "layout": {
          "annotationdefaults": {
           "arrowcolor": "#2a3f5f",
           "arrowhead": 0,
           "arrowwidth": 1
          },
          "autotypenumbers": "strict",
          "coloraxis": {
           "colorbar": {
            "outlinewidth": 0,
            "ticks": ""
           }
          },
          "colorscale": {
           "diverging": [
            [
             0,
             "#8e0152"
            ],
            [
             0.1,
             "#c51b7d"
            ],
            [
             0.2,
             "#de77ae"
            ],
            [
             0.3,
             "#f1b6da"
            ],
            [
             0.4,
             "#fde0ef"
            ],
            [
             0.5,
             "#f7f7f7"
            ],
            [
             0.6,
             "#e6f5d0"
            ],
            [
             0.7,
             "#b8e186"
            ],
            [
             0.8,
             "#7fbc41"
            ],
            [
             0.9,
             "#4d9221"
            ],
            [
             1,
             "#276419"
            ]
           ],
           "sequential": [
            [
             0,
             "#0d0887"
            ],
            [
             0.1111111111111111,
             "#46039f"
            ],
            [
             0.2222222222222222,
             "#7201a8"
            ],
            [
             0.3333333333333333,
             "#9c179e"
            ],
            [
             0.4444444444444444,
             "#bd3786"
            ],
            [
             0.5555555555555556,
             "#d8576b"
            ],
            [
             0.6666666666666666,
             "#ed7953"
            ],
            [
             0.7777777777777778,
             "#fb9f3a"
            ],
            [
             0.8888888888888888,
             "#fdca26"
            ],
            [
             1,
             "#f0f921"
            ]
           ],
           "sequentialminus": [
            [
             0,
             "#0d0887"
            ],
            [
             0.1111111111111111,
             "#46039f"
            ],
            [
             0.2222222222222222,
             "#7201a8"
            ],
            [
             0.3333333333333333,
             "#9c179e"
            ],
            [
             0.4444444444444444,
             "#bd3786"
            ],
            [
             0.5555555555555556,
             "#d8576b"
            ],
            [
             0.6666666666666666,
             "#ed7953"
            ],
            [
             0.7777777777777778,
             "#fb9f3a"
            ],
            [
             0.8888888888888888,
             "#fdca26"
            ],
            [
             1,
             "#f0f921"
            ]
           ]
          },
          "colorway": [
           "#636efa",
           "#EF553B",
           "#00cc96",
           "#ab63fa",
           "#FFA15A",
           "#19d3f3",
           "#FF6692",
           "#B6E880",
           "#FF97FF",
           "#FECB52"
          ],
          "font": {
           "color": "#2a3f5f"
          },
          "geo": {
           "bgcolor": "white",
           "lakecolor": "white",
           "landcolor": "#E5ECF6",
           "showlakes": true,
           "showland": true,
           "subunitcolor": "white"
          },
          "hoverlabel": {
           "align": "left"
          },
          "hovermode": "closest",
          "mapbox": {
           "style": "light"
          },
          "paper_bgcolor": "white",
          "plot_bgcolor": "#E5ECF6",
          "polar": {
           "angularaxis": {
            "gridcolor": "white",
            "linecolor": "white",
            "ticks": ""
           },
           "bgcolor": "#E5ECF6",
           "radialaxis": {
            "gridcolor": "white",
            "linecolor": "white",
            "ticks": ""
           }
          },
          "scene": {
           "xaxis": {
            "backgroundcolor": "#E5ECF6",
            "gridcolor": "white",
            "gridwidth": 2,
            "linecolor": "white",
            "showbackground": true,
            "ticks": "",
            "zerolinecolor": "white"
           },
           "yaxis": {
            "backgroundcolor": "#E5ECF6",
            "gridcolor": "white",
            "gridwidth": 2,
            "linecolor": "white",
            "showbackground": true,
            "ticks": "",
            "zerolinecolor": "white"
           },
           "zaxis": {
            "backgroundcolor": "#E5ECF6",
            "gridcolor": "white",
            "gridwidth": 2,
            "linecolor": "white",
            "showbackground": true,
            "ticks": "",
            "zerolinecolor": "white"
           }
          },
          "shapedefaults": {
           "line": {
            "color": "#2a3f5f"
           }
          },
          "ternary": {
           "aaxis": {
            "gridcolor": "white",
            "linecolor": "white",
            "ticks": ""
           },
           "baxis": {
            "gridcolor": "white",
            "linecolor": "white",
            "ticks": ""
           },
           "bgcolor": "#E5ECF6",
           "caxis": {
            "gridcolor": "white",
            "linecolor": "white",
            "ticks": ""
           }
          },
          "title": {
           "x": 0.05
          },
          "xaxis": {
           "automargin": true,
           "gridcolor": "white",
           "linecolor": "white",
           "ticks": "",
           "title": {
            "standoff": 15
           },
           "zerolinecolor": "white",
           "zerolinewidth": 2
          },
          "yaxis": {
           "automargin": true,
           "gridcolor": "white",
           "linecolor": "white",
           "ticks": "",
           "title": {
            "standoff": 15
           },
           "zerolinecolor": "white",
           "zerolinewidth": 2
          }
         }
        },
        "title": {
         "text": "Sales with Radio Advertisement"
        },
        "xaxis": {
         "anchor": "y",
         "domain": [
          0,
          1
         ],
         "title": {
          "text": "Radio"
         }
        },
        "yaxis": {
         "anchor": "x",
         "domain": [
          0,
          1
         ],
         "title": {
          "text": "Sales"
         }
        }
       }
      },
      "text/html": [
       "<div>                            <div id=\"fdcfad3b-f02d-4b08-ae3f-24d5c6cd1b14\" class=\"plotly-graph-div\" style=\"height:525px; width:100%;\"></div>            <script type=\"text/javascript\">                require([\"plotly\"], function(Plotly) {                    window.PLOTLYENV=window.PLOTLYENV || {};                                    if (document.getElementById(\"fdcfad3b-f02d-4b08-ae3f-24d5c6cd1b14\")) {                    Plotly.newPlot(                        \"fdcfad3b-f02d-4b08-ae3f-24d5c6cd1b14\",                        [{\"hovertemplate\":\"Radio=%{marker.size}<br>Sales=%{y}<extra></extra>\",\"legendgroup\":\"\",\"marker\":{\"color\":\"#636efa\",\"size\":[37.8,39.3,45.9,41.3,10.8,48.9,32.8,19.6,2.1,2.6,5.8,24.0,35.1,7.6,32.9,47.7,36.6,39.6,20.5,23.9,27.7,5.1,15.9,16.9,12.6,3.5,29.3,16.7,27.1,16.0,28.3,17.4,1.5,20.0,1.4,4.1,43.8,49.4,26.7,37.7,22.3,33.4,27.7,8.4,25.7,22.5,9.9,41.5,15.8,11.7,3.1,9.6,41.7,46.2,28.8,49.4,28.1,19.2,49.6,29.5,2.0,42.7,15.5,29.6,42.8,9.3,24.6,14.5,27.5,43.9,30.6,14.3,33.0,5.7,24.6,43.7,1.6,28.5,29.9,7.7,26.7,4.1,20.3,44.5,43.0,18.4,27.5,40.6,25.5,47.8,4.9,1.5,33.5,36.5,14.0,31.6,3.5,21.0,42.3,41.7,4.3,36.3,10.1,17.2,34.3,46.4,11.0,0.3,0.4,26.9,8.2,38.0,15.4,20.6,46.8,35.0,14.3,0.8,36.9,16.0,26.8,21.7,2.4,34.6,32.3,11.8,38.9,0.0,49.0,12.0,39.6,2.9,27.2,33.5,38.6,47.0,39.0,28.9,25.9,43.9,17.0,35.4,33.2,5.7,14.8,1.9,7.3,49.0,40.3,25.8,13.9,8.4,23.3,39.7,21.1,11.6,43.5,1.3,36.9,18.4,18.1,35.8,18.1,36.8,14.7,3.4,37.6,5.2,23.6,10.6,11.6,20.9,20.1,7.1,3.4,48.9,30.2,7.8,2.3,10.0,2.6,5.4,5.7,43.0,21.3,45.1,2.1,28.7,13.9,12.1,41.1,10.8,4.1,42.0,35.6,3.7,4.9,9.3,42.0,8.6],\"sizemode\":\"area\",\"sizeref\":0.124,\"symbol\":\"circle\"},\"mode\":\"markers\",\"name\":\"\",\"orientation\":\"v\",\"showlegend\":false,\"x\":[37.8,39.3,45.9,41.3,10.8,48.9,32.8,19.6,2.1,2.6,5.8,24.0,35.1,7.6,32.9,47.7,36.6,39.6,20.5,23.9,27.7,5.1,15.9,16.9,12.6,3.5,29.3,16.7,27.1,16.0,28.3,17.4,1.5,20.0,1.4,4.1,43.8,49.4,26.7,37.7,22.3,33.4,27.7,8.4,25.7,22.5,9.9,41.5,15.8,11.7,3.1,9.6,41.7,46.2,28.8,49.4,28.1,19.2,49.6,29.5,2.0,42.7,15.5,29.6,42.8,9.3,24.6,14.5,27.5,43.9,30.6,14.3,33.0,5.7,24.6,43.7,1.6,28.5,29.9,7.7,26.7,4.1,20.3,44.5,43.0,18.4,27.5,40.6,25.5,47.8,4.9,1.5,33.5,36.5,14.0,31.6,3.5,21.0,42.3,41.7,4.3,36.3,10.1,17.2,34.3,46.4,11.0,0.3,0.4,26.9,8.2,38.0,15.4,20.6,46.8,35.0,14.3,0.8,36.9,16.0,26.8,21.7,2.4,34.6,32.3,11.8,38.9,0.0,49.0,12.0,39.6,2.9,27.2,33.5,38.6,47.0,39.0,28.9,25.9,43.9,17.0,35.4,33.2,5.7,14.8,1.9,7.3,49.0,40.3,25.8,13.9,8.4,23.3,39.7,21.1,11.6,43.5,1.3,36.9,18.4,18.1,35.8,18.1,36.8,14.7,3.4,37.6,5.2,23.6,10.6,11.6,20.9,20.1,7.1,3.4,48.9,30.2,7.8,2.3,10.0,2.6,5.4,5.7,43.0,21.3,45.1,2.1,28.7,13.9,12.1,41.1,10.8,4.1,42.0,35.6,3.7,4.9,9.3,42.0,8.6],\"xaxis\":\"x\",\"y\":[22.1,10.4,12.0,16.5,17.9,7.2,11.8,13.2,4.8,15.6,12.6,17.4,9.2,13.7,19.0,22.4,12.5,24.4,11.3,14.6,18.0,17.5,5.6,20.5,9.7,17.0,15.0,20.9,18.9,10.5,21.4,11.9,13.2,17.4,11.9,17.8,25.4,14.7,10.1,21.5,16.6,17.1,20.7,17.9,8.5,16.1,10.6,23.2,19.8,9.7,16.4,10.7,22.6,21.2,20.2,23.7,5.5,13.2,23.8,18.4,8.1,24.2,20.7,14.0,16.0,11.3,11.0,13.4,18.9,22.3,18.3,12.4,8.8,11.0,17.0,8.7,6.9,14.2,5.3,11.0,11.8,17.3,11.3,13.6,21.7,20.2,12.0,16.0,12.9,16.7,14.0,7.3,19.4,22.2,11.5,16.9,16.7,20.5,25.4,17.2,16.7,23.8,19.8,19.7,20.7,15.0,7.2,12.0,5.3,19.8,18.4,21.8,17.1,20.9,14.6,12.6,12.2,9.4,15.9,6.6,15.5,7.0,16.6,15.2,19.7,10.6,6.6,11.9,24.7,9.7,1.6,17.7,5.7,19.6,10.8,11.6,9.5,20.8,9.6,20.7,10.9,19.2,20.1,10.4,12.3,10.3,18.2,25.4,10.9,10.1,16.1,11.6,16.6,16.0,20.6,3.2,15.3,10.1,7.3,12.9,16.4,13.3,19.9,18.0,11.9,16.9,8.0,17.2,17.1,20.0,8.4,17.5,7.6,16.7,16.5,27.0,20.2,16.7,16.8,17.6,15.5,17.2,8.7,26.2,17.6,22.6,10.3,17.3,20.9,6.7,10.8,11.9,5.9,19.6,17.3,7.6,14.0,14.8,25.5,18.4],\"yaxis\":\"y\",\"type\":\"scatter\"},{\"hovertemplate\":\"<b>OLS trendline</b><br>Sales = 0.124432 * Radio + 12.2357<br>R<sup>2</sup>=0.122242<br><br>Radio=%{x}<br>Sales=%{y} <b>(trend)</b><extra></extra>\",\"legendgroup\":\"\",\"marker\":{\"color\":\"#636efa\",\"symbol\":\"circle\"},\"mode\":\"lines\",\"name\":\"\",\"showlegend\":false,\"x\":[0.0,0.3,0.4,0.8,1.3,1.4,1.5,1.5,1.6,1.9,2.0,2.1,2.1,2.3,2.4,2.6,2.6,2.9,3.1,3.4,3.4,3.5,3.5,3.7,4.1,4.1,4.1,4.3,4.9,4.9,5.1,5.2,5.4,5.7,5.7,5.7,5.8,7.1,7.3,7.6,7.7,7.8,8.2,8.4,8.4,8.6,9.3,9.3,9.6,9.9,10.0,10.1,10.6,10.8,10.8,11.0,11.6,11.6,11.7,11.8,12.0,12.1,12.6,13.9,13.9,14.0,14.3,14.3,14.5,14.7,14.8,15.4,15.5,15.8,15.9,16.0,16.0,16.7,16.9,17.0,17.2,17.4,18.1,18.1,18.4,18.4,19.2,19.6,20.0,20.1,20.3,20.5,20.6,20.9,21.0,21.1,21.3,21.7,22.3,22.5,23.3,23.6,23.9,24.0,24.6,24.6,25.5,25.7,25.8,25.9,26.7,26.7,26.8,26.9,27.1,27.2,27.5,27.5,27.7,27.7,28.1,28.3,28.5,28.7,28.8,28.9,29.3,29.5,29.6,29.9,30.2,30.6,31.6,32.3,32.8,32.9,33.0,33.2,33.4,33.5,33.5,34.3,34.6,35.0,35.1,35.4,35.6,35.8,36.3,36.5,36.6,36.8,36.9,36.9,37.6,37.7,37.8,38.0,38.6,38.9,39.0,39.3,39.6,39.6,39.7,40.3,40.6,41.1,41.3,41.5,41.7,41.7,42.0,42.0,42.3,42.7,42.8,43.0,43.0,43.5,43.7,43.8,43.9,43.9,44.5,45.1,45.9,46.2,46.4,46.8,47.0,47.7,47.8,48.9,48.9,49.0,49.0,49.4,49.4,49.6],\"xaxis\":\"x\",\"y\":[12.23572196636924,12.273051463020256,12.285494628570595,12.335267290771949,12.397483118523642,12.40992628407398,12.42236944962432,12.42236944962432,12.434812615174659,12.472142111825674,12.484585277376013,12.49702844292635,12.49702844292635,12.521914774027028,12.534357939577367,12.559244270678043,12.559244270678043,12.59657376732906,12.621460098429736,12.658789595080753,12.658789595080753,12.67123276063109,12.67123276063109,12.696119091731768,12.745891753933122,12.745891753933122,12.745891753933122,12.7707780850338,12.84543707833583,12.84543707833583,12.870323409436509,12.882766574986848,12.907652906087524,12.94498240273854,12.94498240273854,12.94498240273854,12.95742556828888,13.119186720443281,13.144073051543957,13.181402548194974,13.193845713745311,13.20628887929565,13.256061541497004,13.280947872597682,13.280947872597682,13.305834203698359,13.39293636255073,13.39293636255073,13.430265859201745,13.467595355852762,13.480038521403099,13.492481686953438,13.554697514705131,13.579583845805809,13.579583845805809,13.604470176906485,13.679129170208517,13.679129170208517,13.691572335758856,13.704015501309195,13.728901832409871,13.74134499796021,13.803560825711903,13.965321977866305,13.965321977866305,13.977765143416644,14.015094640067659,14.015094640067659,14.039980971168337,14.064867302269013,14.077310467819352,14.151969461121384,14.164412626671723,14.201742123322738,14.214185288873077,14.226628454423416,14.226628454423416,14.313730613275785,14.338616944376462,14.3510601099268,14.375946441027478,14.400832772128155,14.487934930980526,14.487934930980526,14.52526442763154,14.52526442763154,14.624809752034249,14.674582414235605,14.724355076436959,14.736798241987298,14.761684573087974,14.786570904188652,14.799014069738991,14.836343566390006,14.848786731940345,14.861229897490684,14.88611622859136,14.935888890792715,15.010547884094747,15.035434215195423,15.134979539598133,15.172309036249148,15.209638532900163,15.222081698450502,15.296740691752534,15.296740691752534,15.408729181705581,15.43361551280626,15.446058678356597,15.458501843906935,15.558047168309646,15.558047168309646,15.570490333859983,15.582933499410322,15.607819830511,15.620262996061337,15.657592492712354,15.657592492712354,15.68247882381303,15.68247882381303,15.732251486014384,15.757137817115062,15.78202414821574,15.806910479316416,15.819353644866755,15.831796810417092,15.881569472618448,15.906455803719126,15.918898969269463,15.956228465920478,15.993557962571495,16.04333062477285,16.167762280276236,16.254864439128603,16.317080266880296,16.329523432430637,16.341966597980978,16.366852929081652,16.39173926018233,16.40418242573267,16.40418242573267,16.503727750135376,16.541057246786394,16.590829908987747,16.603273074538087,16.640602571189103,16.66548890228978,16.690375233390455,16.752591061142148,16.777477392242826,16.789920557793167,16.81480688889384,16.827250054444182,16.827250054444182,16.914352213296553,16.92679537884689,16.939238544397227,16.964124875497905,17.03878386879994,17.07611336545095,17.08855653100129,17.125886027652307,17.16321552430332,17.16321552430332,17.175658689853663,17.250317683155693,17.287647179806708,17.3498630075584,17.37474933865908,17.399635669759757,17.424522000860435,17.424522000860435,17.46185149751145,17.46185149751145,17.499180994162465,17.54895365636382,17.56139682191416,17.586283153014836,17.586283153014836,17.648498980766526,17.673385311867207,17.685828477417544,17.69827164296788,17.69827164296788,17.772930636269912,17.847589629571946,17.947134953974654,17.98446445062567,18.009350781726347,18.059123443927703,18.084009775028377,18.17111193388075,18.183555099431086,18.320429920484813,18.320429920484813,18.33287308603515,18.33287308603515,18.382645748236506,18.382645748236506,18.40753207933718],\"yaxis\":\"y\",\"type\":\"scatter\"}],                        {\"template\":{\"data\":{\"histogram2dcontour\":[{\"type\":\"histogram2dcontour\",\"colorbar\":{\"outlinewidth\":0,\"ticks\":\"\"},\"colorscale\":[[0.0,\"#0d0887\"],[0.1111111111111111,\"#46039f\"],[0.2222222222222222,\"#7201a8\"],[0.3333333333333333,\"#9c179e\"],[0.4444444444444444,\"#bd3786\"],[0.5555555555555556,\"#d8576b\"],[0.6666666666666666,\"#ed7953\"],[0.7777777777777778,\"#fb9f3a\"],[0.8888888888888888,\"#fdca26\"],[1.0,\"#f0f921\"]]}],\"choropleth\":[{\"type\":\"choropleth\",\"colorbar\":{\"outlinewidth\":0,\"ticks\":\"\"}}],\"histogram2d\":[{\"type\":\"histogram2d\",\"colorbar\":{\"outlinewidth\":0,\"ticks\":\"\"},\"colorscale\":[[0.0,\"#0d0887\"],[0.1111111111111111,\"#46039f\"],[0.2222222222222222,\"#7201a8\"],[0.3333333333333333,\"#9c179e\"],[0.4444444444444444,\"#bd3786\"],[0.5555555555555556,\"#d8576b\"],[0.6666666666666666,\"#ed7953\"],[0.7777777777777778,\"#fb9f3a\"],[0.8888888888888888,\"#fdca26\"],[1.0,\"#f0f921\"]]}],\"heatmap\":[{\"type\":\"heatmap\",\"colorbar\":{\"outlinewidth\":0,\"ticks\":\"\"},\"colorscale\":[[0.0,\"#0d0887\"],[0.1111111111111111,\"#46039f\"],[0.2222222222222222,\"#7201a8\"],[0.3333333333333333,\"#9c179e\"],[0.4444444444444444,\"#bd3786\"],[0.5555555555555556,\"#d8576b\"],[0.6666666666666666,\"#ed7953\"],[0.7777777777777778,\"#fb9f3a\"],[0.8888888888888888,\"#fdca26\"],[1.0,\"#f0f921\"]]}],\"heatmapgl\":[{\"type\":\"heatmapgl\",\"colorbar\":{\"outlinewidth\":0,\"ticks\":\"\"},\"colorscale\":[[0.0,\"#0d0887\"],[0.1111111111111111,\"#46039f\"],[0.2222222222222222,\"#7201a8\"],[0.3333333333333333,\"#9c179e\"],[0.4444444444444444,\"#bd3786\"],[0.5555555555555556,\"#d8576b\"],[0.6666666666666666,\"#ed7953\"],[0.7777777777777778,\"#fb9f3a\"],[0.8888888888888888,\"#fdca26\"],[1.0,\"#f0f921\"]]}],\"contourcarpet\":[{\"type\":\"contourcarpet\",\"colorbar\":{\"outlinewidth\":0,\"ticks\":\"\"}}],\"contour\":[{\"type\":\"contour\",\"colorbar\":{\"outlinewidth\":0,\"ticks\":\"\"},\"colorscale\":[[0.0,\"#0d0887\"],[0.1111111111111111,\"#46039f\"],[0.2222222222222222,\"#7201a8\"],[0.3333333333333333,\"#9c179e\"],[0.4444444444444444,\"#bd3786\"],[0.5555555555555556,\"#d8576b\"],[0.6666666666666666,\"#ed7953\"],[0.7777777777777778,\"#fb9f3a\"],[0.8888888888888888,\"#fdca26\"],[1.0,\"#f0f921\"]]}],\"surface\":[{\"type\":\"surface\",\"colorbar\":{\"outlinewidth\":0,\"ticks\":\"\"},\"colorscale\":[[0.0,\"#0d0887\"],[0.1111111111111111,\"#46039f\"],[0.2222222222222222,\"#7201a8\"],[0.3333333333333333,\"#9c179e\"],[0.4444444444444444,\"#bd3786\"],[0.5555555555555556,\"#d8576b\"],[0.6666666666666666,\"#ed7953\"],[0.7777777777777778,\"#fb9f3a\"],[0.8888888888888888,\"#fdca26\"],[1.0,\"#f0f921\"]]}],\"mesh3d\":[{\"type\":\"mesh3d\",\"colorbar\":{\"outlinewidth\":0,\"ticks\":\"\"}}],\"scatter\":[{\"fillpattern\":{\"fillmode\":\"overlay\",\"size\":10,\"solidity\":0.2},\"type\":\"scatter\"}],\"parcoords\":[{\"type\":\"parcoords\",\"line\":{\"colorbar\":{\"outlinewidth\":0,\"ticks\":\"\"}}}],\"scatterpolargl\":[{\"type\":\"scatterpolargl\",\"marker\":{\"colorbar\":{\"outlinewidth\":0,\"ticks\":\"\"}}}],\"bar\":[{\"error_x\":{\"color\":\"#2a3f5f\"},\"error_y\":{\"color\":\"#2a3f5f\"},\"marker\":{\"line\":{\"color\":\"#E5ECF6\",\"width\":0.5},\"pattern\":{\"fillmode\":\"overlay\",\"size\":10,\"solidity\":0.2}},\"type\":\"bar\"}],\"scattergeo\":[{\"type\":\"scattergeo\",\"marker\":{\"colorbar\":{\"outlinewidth\":0,\"ticks\":\"\"}}}],\"scatterpolar\":[{\"type\":\"scatterpolar\",\"marker\":{\"colorbar\":{\"outlinewidth\":0,\"ticks\":\"\"}}}],\"histogram\":[{\"marker\":{\"pattern\":{\"fillmode\":\"overlay\",\"size\":10,\"solidity\":0.2}},\"type\":\"histogram\"}],\"scattergl\":[{\"type\":\"scattergl\",\"marker\":{\"colorbar\":{\"outlinewidth\":0,\"ticks\":\"\"}}}],\"scatter3d\":[{\"type\":\"scatter3d\",\"line\":{\"colorbar\":{\"outlinewidth\":0,\"ticks\":\"\"}},\"marker\":{\"colorbar\":{\"outlinewidth\":0,\"ticks\":\"\"}}}],\"scattermapbox\":[{\"type\":\"scattermapbox\",\"marker\":{\"colorbar\":{\"outlinewidth\":0,\"ticks\":\"\"}}}],\"scatterternary\":[{\"type\":\"scatterternary\",\"marker\":{\"colorbar\":{\"outlinewidth\":0,\"ticks\":\"\"}}}],\"scattercarpet\":[{\"type\":\"scattercarpet\",\"marker\":{\"colorbar\":{\"outlinewidth\":0,\"ticks\":\"\"}}}],\"carpet\":[{\"aaxis\":{\"endlinecolor\":\"#2a3f5f\",\"gridcolor\":\"white\",\"linecolor\":\"white\",\"minorgridcolor\":\"white\",\"startlinecolor\":\"#2a3f5f\"},\"baxis\":{\"endlinecolor\":\"#2a3f5f\",\"gridcolor\":\"white\",\"linecolor\":\"white\",\"minorgridcolor\":\"white\",\"startlinecolor\":\"#2a3f5f\"},\"type\":\"carpet\"}],\"table\":[{\"cells\":{\"fill\":{\"color\":\"#EBF0F8\"},\"line\":{\"color\":\"white\"}},\"header\":{\"fill\":{\"color\":\"#C8D4E3\"},\"line\":{\"color\":\"white\"}},\"type\":\"table\"}],\"barpolar\":[{\"marker\":{\"line\":{\"color\":\"#E5ECF6\",\"width\":0.5},\"pattern\":{\"fillmode\":\"overlay\",\"size\":10,\"solidity\":0.2}},\"type\":\"barpolar\"}],\"pie\":[{\"automargin\":true,\"type\":\"pie\"}]},\"layout\":{\"autotypenumbers\":\"strict\",\"colorway\":[\"#636efa\",\"#EF553B\",\"#00cc96\",\"#ab63fa\",\"#FFA15A\",\"#19d3f3\",\"#FF6692\",\"#B6E880\",\"#FF97FF\",\"#FECB52\"],\"font\":{\"color\":\"#2a3f5f\"},\"hovermode\":\"closest\",\"hoverlabel\":{\"align\":\"left\"},\"paper_bgcolor\":\"white\",\"plot_bgcolor\":\"#E5ECF6\",\"polar\":{\"bgcolor\":\"#E5ECF6\",\"angularaxis\":{\"gridcolor\":\"white\",\"linecolor\":\"white\",\"ticks\":\"\"},\"radialaxis\":{\"gridcolor\":\"white\",\"linecolor\":\"white\",\"ticks\":\"\"}},\"ternary\":{\"bgcolor\":\"#E5ECF6\",\"aaxis\":{\"gridcolor\":\"white\",\"linecolor\":\"white\",\"ticks\":\"\"},\"baxis\":{\"gridcolor\":\"white\",\"linecolor\":\"white\",\"ticks\":\"\"},\"caxis\":{\"gridcolor\":\"white\",\"linecolor\":\"white\",\"ticks\":\"\"}},\"coloraxis\":{\"colorbar\":{\"outlinewidth\":0,\"ticks\":\"\"}},\"colorscale\":{\"sequential\":[[0.0,\"#0d0887\"],[0.1111111111111111,\"#46039f\"],[0.2222222222222222,\"#7201a8\"],[0.3333333333333333,\"#9c179e\"],[0.4444444444444444,\"#bd3786\"],[0.5555555555555556,\"#d8576b\"],[0.6666666666666666,\"#ed7953\"],[0.7777777777777778,\"#fb9f3a\"],[0.8888888888888888,\"#fdca26\"],[1.0,\"#f0f921\"]],\"sequentialminus\":[[0.0,\"#0d0887\"],[0.1111111111111111,\"#46039f\"],[0.2222222222222222,\"#7201a8\"],[0.3333333333333333,\"#9c179e\"],[0.4444444444444444,\"#bd3786\"],[0.5555555555555556,\"#d8576b\"],[0.6666666666666666,\"#ed7953\"],[0.7777777777777778,\"#fb9f3a\"],[0.8888888888888888,\"#fdca26\"],[1.0,\"#f0f921\"]],\"diverging\":[[0,\"#8e0152\"],[0.1,\"#c51b7d\"],[0.2,\"#de77ae\"],[0.3,\"#f1b6da\"],[0.4,\"#fde0ef\"],[0.5,\"#f7f7f7\"],[0.6,\"#e6f5d0\"],[0.7,\"#b8e186\"],[0.8,\"#7fbc41\"],[0.9,\"#4d9221\"],[1,\"#276419\"]]},\"xaxis\":{\"gridcolor\":\"white\",\"linecolor\":\"white\",\"ticks\":\"\",\"title\":{\"standoff\":15},\"zerolinecolor\":\"white\",\"automargin\":true,\"zerolinewidth\":2},\"yaxis\":{\"gridcolor\":\"white\",\"linecolor\":\"white\",\"ticks\":\"\",\"title\":{\"standoff\":15},\"zerolinecolor\":\"white\",\"automargin\":true,\"zerolinewidth\":2},\"scene\":{\"xaxis\":{\"backgroundcolor\":\"#E5ECF6\",\"gridcolor\":\"white\",\"linecolor\":\"white\",\"showbackground\":true,\"ticks\":\"\",\"zerolinecolor\":\"white\",\"gridwidth\":2},\"yaxis\":{\"backgroundcolor\":\"#E5ECF6\",\"gridcolor\":\"white\",\"linecolor\":\"white\",\"showbackground\":true,\"ticks\":\"\",\"zerolinecolor\":\"white\",\"gridwidth\":2},\"zaxis\":{\"backgroundcolor\":\"#E5ECF6\",\"gridcolor\":\"white\",\"linecolor\":\"white\",\"showbackground\":true,\"ticks\":\"\",\"zerolinecolor\":\"white\",\"gridwidth\":2}},\"shapedefaults\":{\"line\":{\"color\":\"#2a3f5f\"}},\"annotationdefaults\":{\"arrowcolor\":\"#2a3f5f\",\"arrowhead\":0,\"arrowwidth\":1},\"geo\":{\"bgcolor\":\"white\",\"landcolor\":\"#E5ECF6\",\"subunitcolor\":\"white\",\"showland\":true,\"showlakes\":true,\"lakecolor\":\"white\"},\"title\":{\"x\":0.05},\"mapbox\":{\"style\":\"light\"}}},\"xaxis\":{\"anchor\":\"y\",\"domain\":[0.0,1.0],\"title\":{\"text\":\"Radio\"}},\"yaxis\":{\"anchor\":\"x\",\"domain\":[0.0,1.0],\"title\":{\"text\":\"Sales\"}},\"legend\":{\"tracegroupgap\":0,\"itemsizing\":\"constant\"},\"title\":{\"text\":\"Sales with Radio Advertisement\"}},                        {\"responsive\": true}                    ).then(function(){\n",
       "                            \n",
       "var gd = document.getElementById('fdcfad3b-f02d-4b08-ae3f-24d5c6cd1b14');\n",
       "var x = new MutationObserver(function (mutations, observer) {{\n",
       "        var display = window.getComputedStyle(gd).display;\n",
       "        if (!display || display === 'none') {{\n",
       "            console.log([gd, 'removed!']);\n",
       "            Plotly.purge(gd);\n",
       "            observer.disconnect();\n",
       "        }}\n",
       "}});\n",
       "\n",
       "// Listen for the removal of the full notebook cells\n",
       "var notebookContainer = gd.closest('#notebook-container');\n",
       "if (notebookContainer) {{\n",
       "    x.observe(notebookContainer, {childList: true});\n",
       "}}\n",
       "\n",
       "// Listen for the clearing of the current output cell\n",
       "var outputEl = gd.closest('.output');\n",
       "if (outputEl) {{\n",
       "    x.observe(outputEl, {childList: true});\n",
       "}}\n",
       "\n",
       "                        })                };                });            </script>        </div>"
      ]
     },
     "metadata": {},
     "output_type": "display_data"
    }
   ],
   "source": [
    "figure= px.scatter(data_frame= data, x=\"Radio\", y=\"Sales\",size=\"Radio\", trendline=\"ols\", title=\"Sales with Radio Advertisement\")\n",
    "figure.show()"
   ]
  },
  {
   "cell_type": "code",
   "execution_count": 31,
   "id": "a4cd7833",
   "metadata": {},
   "outputs": [
    {
     "name": "stdout",
     "output_type": "stream",
     "text": [
      "Sales        1.000000\n",
      "TV           0.901208\n",
      "Radio        0.349631\n",
      "Newspaper    0.157960\n",
      "Name: Sales, dtype: float64\n",
      "\n"
     ]
    },
    {
     "data": {
      "image/png": "[encoded data removed]",
      "text/plain": [
       "<Figure size 720x576 with 2 Axes>"
      ]
     },
     "metadata": {
      "needs_background": "light"
     },
     "output_type": "display_data"
    }
   ],
   "source": [
    "#Correlation\n",
    "correlation= data.corr()\n",
    "print(correlation[\"Sales\"].sort_values(ascending=False))\n",
    "print()\n",
    "\n",
    "import seaborn as sns\n",
    "plt.figure(figsize=(10,8))\n",
    "sns.heatmap(correlation)\n",
    "plt.title(\"Correlation\")\n",
    "plt.show()"
   ]
  },
  {
   "cell_type": "code",
   "execution_count": 45,
   "id": "2427d5cf",
   "metadata": {},
   "outputs": [
    {
     "name": "stdout",
     "output_type": "stream",
     "text": [
      "0.9059011844150826\n"
     ]
    }
   ],
   "source": [
    "#Modelling\n",
    "x= np.array(data.drop([\"Sales\"],1))\n",
    "y= np.array(data[\"Sales\"])\n",
    "xtrain, xtest, ytrain, ytest= train_test_split(x,y,test_size=0.2,random_state=42)\n",
    "\n",
    "model = LinearRegression()\n",
    "model.fit(xtrain,ytrain)\n",
    "print(model.score(xtest,ytest))"
   ]
  },
  {
   "cell_type": "code",
   "execution_count": 36,
   "id": "fc7e5c9c",
   "metadata": {},
   "outputs": [
    {
     "name": "stdout",
     "output_type": "stream",
     "text": [
      "[21.37254028]\n"
     ]
    }
   ],
   "source": [
    "#features = [[TV,Radio, Newspaper]]\n",
    "features = np.array([[230.1, 37.8, 69.2]])\n",
    "print(model.predict(features))"
   ]
  }
 ],
 "metadata": {
  "kernelspec": {
   "display_name": "Python 3 (ipykernel)",
   "language": "python",
   "name": "python3"
  },
  "language_info": {
   "codemirror_mode": {
    "name": "ipython",
    "version": 3
   },
   "file_extension": ".py",
   "mimetype": "text/x-python",
   "name": "python",
   "nbconvert_exporter": "python",
   "pygments_lexer": "ipython3",
   "version": "3.9.7"
  }
 },
 "nbformat": 4,
 "nbformat_minor": 5
}
